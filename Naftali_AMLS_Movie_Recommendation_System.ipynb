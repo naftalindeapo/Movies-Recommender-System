{
 "cells": [
  {
   "attachments": {},
   "cell_type": "markdown",
   "id": "a5ef5af9",
   "metadata": {},
   "source": [
    "#### **Name: Naftali N Indongo & Student No: 19572263**\n",
    "#### **Course: Applied Machine Learning at Scale**\n",
    "#### **Assessment Name: Designing a Movie Recommendation System**\n",
    "#### **Due date: 15 May 2023**\n",
    "-----------------------------------------------------------------"
   ]
  },
  {
   "attachments": {},
   "cell_type": "markdown",
   "id": "33561069",
   "metadata": {},
   "source": [
    "##### **Importing all the relevent libraries**"
   ]
  },
  {
   "cell_type": "code",
   "execution_count": 1,
   "id": "9c9c3d62",
   "metadata": {},
   "outputs": [],
   "source": [
    "import numpy as np\n",
    "import pandas as pd\n",
    "import seaborn as sns\n",
    "from collections import Counter\n",
    "import matplotlib.pyplot as plt\n",
    "from itertools import accumulate\n",
    "from scipy.sparse import coo_matrix\n",
    "import multiprocessing as mp\n",
    "from joblib import Parallel, delayed\n",
    "from sklearn.manifold import TSNE\n",
    "from sklearn.decomposition import PCA\n",
    "from sklearn.preprocessing import MultiLabelBinarizer\n",
    "from sklearn.metrics.pairwise import cosine_similarity"
   ]
  },
  {
   "cell_type": "code",
   "execution_count": 2,
   "id": "0fdd5c9f",
   "metadata": {},
   "outputs": [
    {
     "data": {
      "text/plain": [
       "(9742, 3)"
      ]
     },
     "execution_count": 2,
     "metadata": {},
     "output_type": "execute_result"
    }
   ],
   "source": [
    "#Reading in the dataset\n",
    "Ratings = pd.read_csv('ratings1.csv', encoding='UTF-8')\n",
    "movies_df = pd.read_csv('movies1.csv')\n",
    "Ratings.head()\n",
    "movies_df.shape"
   ]
  },
  {
   "cell_type": "code",
   "execution_count": 3,
   "id": "2bc49b0d",
   "metadata": {},
   "outputs": [
    {
     "data": {
      "text/html": [
       "<div>\n",
       "<style scoped>\n",
       "    .dataframe tbody tr th:only-of-type {\n",
       "        vertical-align: middle;\n",
       "    }\n",
       "\n",
       "    .dataframe tbody tr th {\n",
       "        vertical-align: top;\n",
       "    }\n",
       "\n",
       "    .dataframe thead th {\n",
       "        text-align: right;\n",
       "    }\n",
       "</style>\n",
       "<table border=\"1\" class=\"dataframe\">\n",
       "  <thead>\n",
       "    <tr style=\"text-align: right;\">\n",
       "      <th></th>\n",
       "      <th>movieId</th>\n",
       "      <th>title</th>\n",
       "      <th>genres</th>\n",
       "    </tr>\n",
       "  </thead>\n",
       "  <tbody>\n",
       "    <tr>\n",
       "      <th>0</th>\n",
       "      <td>1</td>\n",
       "      <td>Toy Story (1995)</td>\n",
       "      <td>Adventure|Animation|Children|Comedy|Fantasy</td>\n",
       "    </tr>\n",
       "    <tr>\n",
       "      <th>1</th>\n",
       "      <td>2</td>\n",
       "      <td>Jumanji (1995)</td>\n",
       "      <td>Adventure|Children|Fantasy</td>\n",
       "    </tr>\n",
       "    <tr>\n",
       "      <th>2</th>\n",
       "      <td>3</td>\n",
       "      <td>Grumpier Old Men (1995)</td>\n",
       "      <td>Comedy|Romance</td>\n",
       "    </tr>\n",
       "    <tr>\n",
       "      <th>3</th>\n",
       "      <td>4</td>\n",
       "      <td>Waiting to Exhale (1995)</td>\n",
       "      <td>Comedy|Drama|Romance</td>\n",
       "    </tr>\n",
       "    <tr>\n",
       "      <th>4</th>\n",
       "      <td>5</td>\n",
       "      <td>Father of the Bride Part II (1995)</td>\n",
       "      <td>Comedy</td>\n",
       "    </tr>\n",
       "  </tbody>\n",
       "</table>\n",
       "</div>"
      ],
      "text/plain": [
       "   movieId                               title  \\\n",
       "0        1                    Toy Story (1995)   \n",
       "1        2                      Jumanji (1995)   \n",
       "2        3             Grumpier Old Men (1995)   \n",
       "3        4            Waiting to Exhale (1995)   \n",
       "4        5  Father of the Bride Part II (1995)   \n",
       "\n",
       "                                        genres  \n",
       "0  Adventure|Animation|Children|Comedy|Fantasy  \n",
       "1                   Adventure|Children|Fantasy  \n",
       "2                               Comedy|Romance  \n",
       "3                         Comedy|Drama|Romance  \n",
       "4                                       Comedy  "
      ]
     },
     "execution_count": 3,
     "metadata": {},
     "output_type": "execute_result"
    }
   ],
   "source": [
    "movies_df.head()"
   ]
  },
  {
   "cell_type": "code",
   "execution_count": 4,
   "id": "cffb782a",
   "metadata": {},
   "outputs": [],
   "source": [
    "A, userIds = np.unique(Ratings['userId'], return_inverse=True)\n",
    "Ratings['userId'] = userIds"
   ]
  },
  {
   "cell_type": "code",
   "execution_count": 5,
   "id": "82abf672",
   "metadata": {},
   "outputs": [
    {
     "data": {
      "text/plain": [
       "array([0, 1, 2, 3, 4, 5, 6, 7, 8, 9])"
      ]
     },
     "execution_count": 5,
     "metadata": {},
     "output_type": "execute_result"
    }
   ],
   "source": [
    "Ratings['userId'].unique()[0:10]"
   ]
  },
  {
   "cell_type": "code",
   "execution_count": 6,
   "id": "932187c7",
   "metadata": {},
   "outputs": [],
   "source": [
    "B, movieIds = np.unique(Ratings['movieId'],return_inverse=True)\n",
    "Ratings['movieId'] = movieIds"
   ]
  },
  {
   "cell_type": "code",
   "execution_count": 7,
   "id": "240ab265",
   "metadata": {},
   "outputs": [
    {
     "data": {
      "text/plain": [
       "[0, 1, 2, 3, 4, 5, 6, 7, 8, 9]"
      ]
     },
     "execution_count": 7,
     "metadata": {},
     "output_type": "execute_result"
    }
   ],
   "source": [
    "sorted(Ratings['movieId'].unique())[0:10]"
   ]
  },
  {
   "cell_type": "code",
   "execution_count": 8,
   "id": "b6732d61",
   "metadata": {},
   "outputs": [],
   "source": [
    "C, m_movieIds = np.unique(movies_df['movieId'], return_inverse =  True)\n",
    "movies_df['movieId'] =  m_movieIds"
   ]
  },
  {
   "cell_type": "code",
   "execution_count": 9,
   "id": "cdc394e4",
   "metadata": {},
   "outputs": [
    {
     "data": {
      "text/plain": [
       "array([   0,    1,    2, ..., 9739, 9740, 9741])"
      ]
     },
     "execution_count": 9,
     "metadata": {},
     "output_type": "execute_result"
    }
   ],
   "source": [
    "movies_df['movieId'].unique()"
   ]
  },
  {
   "attachments": {},
   "cell_type": "markdown",
   "id": "721e7a9d",
   "metadata": {},
   "source": [
    "### Inspecting the dataset\n",
    "\n",
    "In this practical we used the  MovieLens 100K and 25M data sets which consists of user ratings and movie metadata. The Movielens 100K rating dateset  consists of 100836 movie ratings given by 610 users for 9742 movies, while the MovieLens 25M rating  data set  consists of over 25 million movie ratings provided by 162541 users for approximately 59047 movies. The data sets were collected by the GroupLens Research project at the University of Minnesota \n",
    "\n",
    "We will inspect the dataset info and look at a some of its rows. "
   ]
  },
  {
   "cell_type": "code",
   "execution_count": 10,
   "id": "ebeeeaa1",
   "metadata": {},
   "outputs": [
    {
     "name": "stdout",
     "output_type": "stream",
     "text": [
      "<class 'pandas.core.frame.DataFrame'>\n",
      "RangeIndex: 100836 entries, 0 to 100835\n",
      "Data columns (total 4 columns):\n",
      " #   Column     Non-Null Count   Dtype  \n",
      "---  ------     --------------   -----  \n",
      " 0   userId     100836 non-null  int64  \n",
      " 1   movieId    100836 non-null  int64  \n",
      " 2   rating     100836 non-null  float64\n",
      " 3   timestamp  100836 non-null  int64  \n",
      "dtypes: float64(1), int64(3)\n",
      "memory usage: 3.1 MB\n"
     ]
    }
   ],
   "source": [
    "Ratings.info()"
   ]
  },
  {
   "cell_type": "code",
   "execution_count": 11,
   "id": "a5d9fa06",
   "metadata": {},
   "outputs": [
    {
     "data": {
      "text/html": [
       "<div>\n",
       "<style scoped>\n",
       "    .dataframe tbody tr th:only-of-type {\n",
       "        vertical-align: middle;\n",
       "    }\n",
       "\n",
       "    .dataframe tbody tr th {\n",
       "        vertical-align: top;\n",
       "    }\n",
       "\n",
       "    .dataframe thead th {\n",
       "        text-align: right;\n",
       "    }\n",
       "</style>\n",
       "<table border=\"1\" class=\"dataframe\">\n",
       "  <thead>\n",
       "    <tr style=\"text-align: right;\">\n",
       "      <th></th>\n",
       "      <th>movieId</th>\n",
       "      <th>title</th>\n",
       "      <th>genres</th>\n",
       "      <th>tags</th>\n",
       "    </tr>\n",
       "  </thead>\n",
       "  <tbody>\n",
       "    <tr>\n",
       "      <th>0</th>\n",
       "      <td>0</td>\n",
       "      <td>Toy Story (1995)</td>\n",
       "      <td>Adventure|Animation|Children|Comedy|Fantasy</td>\n",
       "      <td>[Adventure, Animation, Children, Comedy, Fantasy]</td>\n",
       "    </tr>\n",
       "    <tr>\n",
       "      <th>1</th>\n",
       "      <td>1</td>\n",
       "      <td>Jumanji (1995)</td>\n",
       "      <td>Adventure|Children|Fantasy</td>\n",
       "      <td>[Adventure, Children, Fantasy]</td>\n",
       "    </tr>\n",
       "    <tr>\n",
       "      <th>2</th>\n",
       "      <td>2</td>\n",
       "      <td>Grumpier Old Men (1995)</td>\n",
       "      <td>Comedy|Romance</td>\n",
       "      <td>[Comedy, Romance]</td>\n",
       "    </tr>\n",
       "    <tr>\n",
       "      <th>3</th>\n",
       "      <td>3</td>\n",
       "      <td>Waiting to Exhale (1995)</td>\n",
       "      <td>Comedy|Drama|Romance</td>\n",
       "      <td>[Comedy, Drama, Romance]</td>\n",
       "    </tr>\n",
       "    <tr>\n",
       "      <th>4</th>\n",
       "      <td>4</td>\n",
       "      <td>Father of the Bride Part II (1995)</td>\n",
       "      <td>Comedy</td>\n",
       "      <td>[Comedy]</td>\n",
       "    </tr>\n",
       "  </tbody>\n",
       "</table>\n",
       "</div>"
      ],
      "text/plain": [
       "   movieId                               title  \\\n",
       "0        0                    Toy Story (1995)   \n",
       "1        1                      Jumanji (1995)   \n",
       "2        2             Grumpier Old Men (1995)   \n",
       "3        3            Waiting to Exhale (1995)   \n",
       "4        4  Father of the Bride Part II (1995)   \n",
       "\n",
       "                                        genres  \\\n",
       "0  Adventure|Animation|Children|Comedy|Fantasy   \n",
       "1                   Adventure|Children|Fantasy   \n",
       "2                               Comedy|Romance   \n",
       "3                         Comedy|Drama|Romance   \n",
       "4                                       Comedy   \n",
       "\n",
       "                                                tags  \n",
       "0  [Adventure, Animation, Children, Comedy, Fantasy]  \n",
       "1                     [Adventure, Children, Fantasy]  \n",
       "2                                  [Comedy, Romance]  \n",
       "3                           [Comedy, Drama, Romance]  \n",
       "4                                           [Comedy]  "
      ]
     },
     "execution_count": 11,
     "metadata": {},
     "output_type": "execute_result"
    }
   ],
   "source": [
    "movies_df['tags'] = movies_df['genres'].str.split('|')\n",
    "movies_df.head()"
   ]
  },
  {
   "attachments": {},
   "cell_type": "markdown",
   "id": "b8b22d94",
   "metadata": {},
   "source": [
    "### Plotting the rating distribution\n",
    "\n",
    "The ratings range from 0.5 to 5 stars, and the distribution of ratings appears to follow a power law, with the majority of ratings falling in the 3-4 star range as shown in Figure below.\n"
   ]
  },
  {
   "cell_type": "code",
   "execution_count": 12,
   "id": "0e264727",
   "metadata": {},
   "outputs": [
    {
     "data": {
      "image/png": "[encoded data removed]",
      "text/plain": [
       "<Figure size 640x480 with 1 Axes>"
      ]
     },
     "metadata": {},
     "output_type": "display_data"
    }
   ],
   "source": [
    "Ratings['rating'].hist(bins=5, ec = 'black')\n",
    "plt.title('Distribution of Ratings in the MovieLens 100K')\n",
    "plt.ylabel('Frequency')\n",
    "plt.xlabel('user ratings')\n",
    "plt.grid(False)\n",
    "plt.show()"
   ]
  },
  {
   "attachments": {},
   "cell_type": "markdown",
   "id": "5943caed",
   "metadata": {},
   "source": [
    "#### Power Laws\n",
    "\n",
    "The MovieLens dataset provides a rich source of data for building and evaluating recommendation systems. We also plotted the power laws distribution for the two MovieLens datasets as shown below."
   ]
  },
  {
   "cell_type": "code",
   "execution_count": 13,
   "id": "3287b40e",
   "metadata": {},
   "outputs": [
    {
     "data": {
      "image/png": "[encoded data removed]",
      "text/plain": [
       "<Figure size 600x400 with 1 Axes>"
      ]
     },
     "metadata": {},
     "output_type": "display_data"
    }
   ],
   "source": [
    "# Get the number of movies watched by each user\n",
    "user_counts = Ratings.groupby('userId')['movieId'].count()\n",
    "# Get the number of users for each movie\n",
    "movie_counts = Ratings.groupby('movieId')['userId'].count()\n",
    "\n",
    "user_deg = list(user_counts.to_dict().values())\n",
    "movie_deg = list(movie_counts.to_dict().values())\n",
    "\n",
    "user_freq = Counter(user_counts)\n",
    "movie_freq = Counter(movie_counts) \n",
    "\n",
    "x_u, y_u = zip(*sorted(user_freq.items()))\n",
    "x_m, y_m = zip(*sorted(movie_freq.items()))\n",
    "\n",
    "# Create a scatter plot of the data\n",
    "plt.figure(figsize=(6,4))\n",
    "plt.scatter(x_u, y_u, color ='b',label='users')\n",
    "plt.scatter(x_m, y_m,  color ='g',label='movies')\n",
    "plt.xlabel('degree')\n",
    "plt.ylabel('Frequency')\n",
    "plt.title('Degree Distribution in the MovieLens 100K')\n",
    "plt.xscale('log')\n",
    "plt.yscale('log')\n",
    "plt.legend()\n",
    "plt.show()"
   ]
  },
  {
   "cell_type": "code",
   "execution_count": 14,
   "id": "1672a558",
   "metadata": {},
   "outputs": [
    {
     "data": {
      "image/png": "[encoded data removed]",
      "text/plain": [
       "<Figure size 800x400 with 1 Axes>"
      ]
     },
     "metadata": {},
     "output_type": "display_data"
    }
   ],
   "source": [
    "# Count the number of movies per genre\n",
    "genre_count = movies_df['genres'].str.get_dummies(sep='|').sum()\n",
    "\n",
    "# Sort the genre counts in descending order\n",
    "genre_count = genre_count.sort_values(ascending=False)\n",
    "\n",
    "# Plot the genre counts as a bar chart\n",
    "plt.figure(figsize=(8,4))\n",
    "plt.bar(genre_count.index, genre_count.values)\n",
    "plt.xticks(rotation=90)\n",
    "plt.xlabel('Genre')\n",
    "plt.ylabel('Number of movies')\n",
    "plt.title('Distribution of genres in the MovieLens 100K dataset')\n",
    "plt.show()"
   ]
  },
  {
   "cell_type": "code",
   "execution_count": 15,
   "id": "c797edf0",
   "metadata": {},
   "outputs": [
    {
     "name": "stdout",
     "output_type": "stream",
     "text": [
      "   rating                                      title\n",
      "0     329                        Forrest Gump (1994)\n",
      "1     317           Shawshank Redemption, The (1994)\n",
      "2     307                        Pulp Fiction (1994)\n",
      "3     279           Silence of the Lambs, The (1991)\n",
      "4     278                 Walk on the Moon, A (1999)\n",
      "5     251  Star Wars: Episode IV - A New Hope (1977)\n",
      "6     238                       Jurassic Park (1993)\n",
      "7     237                          Braveheart (1995)\n",
      "8     224          Terminator 2: Judgment Day (1991)\n",
      "9     220                    Schindler's List (1993)\n"
     ]
    }
   ],
   "source": [
    "# Join the ratings and movies dataframes on the movieId column\n",
    "movie_N_ratings = pd.merge(Ratings, movies_df, on='movieId')\n",
    "\n",
    "# Group the movie ratings by movieId and count the number of ratings for each movie\n",
    "movie_ratings_count = movie_N_ratings.groupby(['movieId', 'title'])['rating'].count()\n",
    "\n",
    "# Sort the movies by the number of ratings in descending order and get the top 10\n",
    "top_10_movies = movie_ratings_count.sort_values(ascending=False)[:10]\n",
    "\n",
    "# Print the top 10 movies with their names\n",
    "print(top_10_movies.reset_index().loc[:, ['rating', 'title']])"
   ]
  },
  {
   "attachments": {},
   "cell_type": "markdown",
   "id": "8abef7b5",
   "metadata": {},
   "source": [
    "1. Popularity: The top 10 most frequently rated movies are likely to be popular among viewers. This may suggest that these movies have broad appeal and may be good choices for marketing and promotion.\n",
    "\n",
    "2. Age: Many of the top 10 movies were released in the 1990s, which may suggest that the dataset primarily consists of users who were active during this time period.\n",
    "\n",
    "3. Genre: The top 10 movies represent a variety of genres, including drama, action, and science fiction. This suggests that users in the dataset have diverse tastes and interests.\n",
    "\n",
    "4. Longevity: Some of the top 10 movies, such as \"Star \n",
    "Wars: Episode IV - A New Hope\" and \"Jurassic Park,\" have been popular for several decades. This suggests that these movies have enduring appeal and may continue to be popular in the future.\n",
    "\n",
    "Overall, the top 10 most frequently rated movies can provide valuable insights into user behavior and preferences, and can be used to inform a variety of business decisions related to the movie industry."
   ]
  },
  {
   "attachments": {},
   "cell_type": "markdown",
   "id": "d1bcfedf",
   "metadata": {},
   "source": [
    "#### Creating the sparse matrix via the scipy library\n",
    "\n",
    "One of the options to index the data userId and movieId is to use the build in library scipy, to create the sparse marix as shown below: \n",
    "\n",
    "We will first getting unique userId and movieId by using the Pandas Series.unique() function to extract the unique user and movie IDs."
   ]
  },
  {
   "cell_type": "code",
   "execution_count": 16,
   "id": "ea39adb7",
   "metadata": {},
   "outputs": [],
   "source": [
    "users = Ratings['userId'].unique()\n",
    "movies = Ratings['movieId'].unique()"
   ]
  },
  {
   "attachments": {},
   "cell_type": "markdown",
   "id": "4838821f",
   "metadata": {},
   "source": [
    "Then create two dictionaries to store the users and movies ids."
   ]
  },
  {
   "cell_type": "code",
   "execution_count": 17,
   "id": "4ecee754",
   "metadata": {},
   "outputs": [],
   "source": [
    "user_dict = {uid: i for i, uid in enumerate(users)}\n",
    "movie_dict = {iid: i for i, iid in enumerate(movies)}"
   ]
  },
  {
   "attachments": {},
   "cell_type": "markdown",
   "id": "78188e27",
   "metadata": {},
   "source": [
    "This is a matrix whose corresponding rows are the userIds, columns are the movieIds and the entries are the movie ratings."
   ]
  },
  {
   "cell_type": "code",
   "execution_count": 18,
   "id": "699c72ad",
   "metadata": {},
   "outputs": [],
   "source": [
    "row = [user_dict[uid] for uid in Ratings['userId']]\n",
    "col = [movie_dict[mid] for mid in Ratings['movieId']]\n",
    "val = Ratings['rating'].tolist()"
   ]
  },
  {
   "attachments": {},
   "cell_type": "markdown",
   "id": "dd62a0cc",
   "metadata": {},
   "source": [
    "Finally, creating the matrix using \"coo_matrix\"."
   ]
  },
  {
   "cell_type": "code",
   "execution_count": 19,
   "id": "74e663f0",
   "metadata": {},
   "outputs": [],
   "source": [
    "sparse_matrix = coo_matrix((val, (row, col)), shape=(len(users), len(movies)))"
   ]
  },
  {
   "cell_type": "code",
   "execution_count": 20,
   "id": "ba3fab59",
   "metadata": {},
   "outputs": [
    {
     "name": "stdout",
     "output_type": "stream",
     "text": [
      "Our matrix store user ratings for 610 users  corresponding to 9724 movies\n"
     ]
    }
   ],
   "source": [
    "print(\"Our matrix store user ratings for {} users  corresponding to {} movies\".format(sparse_matrix.shape[0],sparse_matrix.shape[1]))"
   ]
  },
  {
   "attachments": {},
   "cell_type": "markdown",
   "id": "899d793e",
   "metadata": {},
   "source": [
    "To view the entries of the matrix, we have to convert the sparse matrix to a dense matrix."
   ]
  },
  {
   "cell_type": "code",
   "execution_count": 21,
   "id": "9d383284",
   "metadata": {},
   "outputs": [
    {
     "data": {
      "text/plain": [
       "array([[4. , 4. , 4. , ..., 0. , 0. , 0. ],\n",
       "       [0. , 0. , 0. , ..., 0. , 0. , 0. ],\n",
       "       [0. , 0. , 0. , ..., 0. , 0. , 0. ],\n",
       "       ...,\n",
       "       [2.5, 2. , 0. , ..., 0. , 0. , 0. ],\n",
       "       [3. , 0. , 0. , ..., 0. , 0. , 0. ],\n",
       "       [5. , 0. , 5. , ..., 3. , 3.5, 3.5]])"
      ]
     },
     "execution_count": 21,
     "metadata": {},
     "output_type": "execute_result"
    }
   ],
   "source": [
    "user_movie_ratings = sparse_matrix.toarray()\n",
    "user_movie_ratings"
   ]
  },
  {
   "cell_type": "code",
   "execution_count": 22,
   "id": "40df1e93",
   "metadata": {},
   "outputs": [
    {
     "name": "stdout",
     "output_type": "stream",
     "text": [
      "(610, 9724)\n"
     ]
    }
   ],
   "source": [
    "print(user_movie_ratings.shape)"
   ]
  },
  {
   "attachments": {},
   "cell_type": "markdown",
   "id": "fd9b1afc",
   "metadata": {},
   "source": [
    "Creating the dense matrix to a pandas dataframe."
   ]
  },
  {
   "cell_type": "code",
   "execution_count": 23,
   "id": "4f4f71c2",
   "metadata": {},
   "outputs": [
    {
     "data": {
      "text/html": [
       "<div>\n",
       "<style scoped>\n",
       "    .dataframe tbody tr th:only-of-type {\n",
       "        vertical-align: middle;\n",
       "    }\n",
       "\n",
       "    .dataframe tbody tr th {\n",
       "        vertical-align: top;\n",
       "    }\n",
       "\n",
       "    .dataframe thead th {\n",
       "        text-align: right;\n",
       "    }\n",
       "</style>\n",
       "<table border=\"1\" class=\"dataframe\">\n",
       "  <thead>\n",
       "    <tr style=\"text-align: right;\">\n",
       "      <th></th>\n",
       "      <th>0</th>\n",
       "      <th>1</th>\n",
       "      <th>2</th>\n",
       "      <th>3</th>\n",
       "      <th>4</th>\n",
       "      <th>5</th>\n",
       "      <th>6</th>\n",
       "      <th>7</th>\n",
       "      <th>8</th>\n",
       "      <th>9</th>\n",
       "      <th>...</th>\n",
       "      <th>9714</th>\n",
       "      <th>9715</th>\n",
       "      <th>9716</th>\n",
       "      <th>9717</th>\n",
       "      <th>9718</th>\n",
       "      <th>9719</th>\n",
       "      <th>9720</th>\n",
       "      <th>9721</th>\n",
       "      <th>9722</th>\n",
       "      <th>9723</th>\n",
       "    </tr>\n",
       "  </thead>\n",
       "  <tbody>\n",
       "    <tr>\n",
       "      <th>0</th>\n",
       "      <td>4.0</td>\n",
       "      <td>4.0</td>\n",
       "      <td>4.0</td>\n",
       "      <td>5.0</td>\n",
       "      <td>5.0</td>\n",
       "      <td>3.0</td>\n",
       "      <td>5.0</td>\n",
       "      <td>4.0</td>\n",
       "      <td>5.0</td>\n",
       "      <td>5.0</td>\n",
       "      <td>...</td>\n",
       "      <td>0.0</td>\n",
       "      <td>0.0</td>\n",
       "      <td>0.0</td>\n",
       "      <td>0.0</td>\n",
       "      <td>0.0</td>\n",
       "      <td>0.0</td>\n",
       "      <td>0.0</td>\n",
       "      <td>0.0</td>\n",
       "      <td>0.0</td>\n",
       "      <td>0.0</td>\n",
       "    </tr>\n",
       "    <tr>\n",
       "      <th>1</th>\n",
       "      <td>0.0</td>\n",
       "      <td>0.0</td>\n",
       "      <td>0.0</td>\n",
       "      <td>0.0</td>\n",
       "      <td>0.0</td>\n",
       "      <td>0.0</td>\n",
       "      <td>0.0</td>\n",
       "      <td>0.0</td>\n",
       "      <td>0.0</td>\n",
       "      <td>0.0</td>\n",
       "      <td>...</td>\n",
       "      <td>0.0</td>\n",
       "      <td>0.0</td>\n",
       "      <td>0.0</td>\n",
       "      <td>0.0</td>\n",
       "      <td>0.0</td>\n",
       "      <td>0.0</td>\n",
       "      <td>0.0</td>\n",
       "      <td>0.0</td>\n",
       "      <td>0.0</td>\n",
       "      <td>0.0</td>\n",
       "    </tr>\n",
       "    <tr>\n",
       "      <th>2</th>\n",
       "      <td>0.0</td>\n",
       "      <td>0.0</td>\n",
       "      <td>0.0</td>\n",
       "      <td>0.0</td>\n",
       "      <td>0.0</td>\n",
       "      <td>0.0</td>\n",
       "      <td>0.0</td>\n",
       "      <td>0.0</td>\n",
       "      <td>0.0</td>\n",
       "      <td>0.0</td>\n",
       "      <td>...</td>\n",
       "      <td>0.0</td>\n",
       "      <td>0.0</td>\n",
       "      <td>0.0</td>\n",
       "      <td>0.0</td>\n",
       "      <td>0.0</td>\n",
       "      <td>0.0</td>\n",
       "      <td>0.0</td>\n",
       "      <td>0.0</td>\n",
       "      <td>0.0</td>\n",
       "      <td>0.0</td>\n",
       "    </tr>\n",
       "    <tr>\n",
       "      <th>3</th>\n",
       "      <td>0.0</td>\n",
       "      <td>0.0</td>\n",
       "      <td>0.0</td>\n",
       "      <td>2.0</td>\n",
       "      <td>0.0</td>\n",
       "      <td>0.0</td>\n",
       "      <td>0.0</td>\n",
       "      <td>0.0</td>\n",
       "      <td>0.0</td>\n",
       "      <td>0.0</td>\n",
       "      <td>...</td>\n",
       "      <td>0.0</td>\n",
       "      <td>0.0</td>\n",
       "      <td>0.0</td>\n",
       "      <td>0.0</td>\n",
       "      <td>0.0</td>\n",
       "      <td>0.0</td>\n",
       "      <td>0.0</td>\n",
       "      <td>0.0</td>\n",
       "      <td>0.0</td>\n",
       "      <td>0.0</td>\n",
       "    </tr>\n",
       "    <tr>\n",
       "      <th>4</th>\n",
       "      <td>4.0</td>\n",
       "      <td>0.0</td>\n",
       "      <td>0.0</td>\n",
       "      <td>0.0</td>\n",
       "      <td>4.0</td>\n",
       "      <td>0.0</td>\n",
       "      <td>0.0</td>\n",
       "      <td>4.0</td>\n",
       "      <td>0.0</td>\n",
       "      <td>0.0</td>\n",
       "      <td>...</td>\n",
       "      <td>0.0</td>\n",
       "      <td>0.0</td>\n",
       "      <td>0.0</td>\n",
       "      <td>0.0</td>\n",
       "      <td>0.0</td>\n",
       "      <td>0.0</td>\n",
       "      <td>0.0</td>\n",
       "      <td>0.0</td>\n",
       "      <td>0.0</td>\n",
       "      <td>0.0</td>\n",
       "    </tr>\n",
       "  </tbody>\n",
       "</table>\n",
       "<p>5 rows × 9724 columns</p>\n",
       "</div>"
      ],
      "text/plain": [
       "   0     1     2     3     4     5     6     7     8     9     ...  9714  \\\n",
       "0   4.0   4.0   4.0   5.0   5.0   3.0   5.0   4.0   5.0   5.0  ...   0.0   \n",
       "1   0.0   0.0   0.0   0.0   0.0   0.0   0.0   0.0   0.0   0.0  ...   0.0   \n",
       "2   0.0   0.0   0.0   0.0   0.0   0.0   0.0   0.0   0.0   0.0  ...   0.0   \n",
       "3   0.0   0.0   0.0   2.0   0.0   0.0   0.0   0.0   0.0   0.0  ...   0.0   \n",
       "4   4.0   0.0   0.0   0.0   4.0   0.0   0.0   4.0   0.0   0.0  ...   0.0   \n",
       "\n",
       "   9715  9716  9717  9718  9719  9720  9721  9722  9723  \n",
       "0   0.0   0.0   0.0   0.0   0.0   0.0   0.0   0.0   0.0  \n",
       "1   0.0   0.0   0.0   0.0   0.0   0.0   0.0   0.0   0.0  \n",
       "2   0.0   0.0   0.0   0.0   0.0   0.0   0.0   0.0   0.0  \n",
       "3   0.0   0.0   0.0   0.0   0.0   0.0   0.0   0.0   0.0  \n",
       "4   0.0   0.0   0.0   0.0   0.0   0.0   0.0   0.0   0.0  \n",
       "\n",
       "[5 rows x 9724 columns]"
      ]
     },
     "execution_count": 23,
     "metadata": {},
     "output_type": "execute_result"
    }
   ],
   "source": [
    "Spare_DF = pd.DataFrame(user_movie_ratings)\n",
    "Spare_DF.head()"
   ]
  },
  {
   "attachments": {},
   "cell_type": "markdown",
   "id": "0ef0fc32",
   "metadata": {},
   "source": [
    "#### **Writing data structure that indexes the data by user and movies**\n",
    "\n",
    "Below we will come up with data structure that indexes the data by userId and movieId. The best option to index the data using userId and movieId use double indexing to store both each user rating and movie rating in lists. We first created a list consisting of all "
   ]
  },
  {
   "attachments": {},
   "cell_type": "markdown",
   "id": "cc47f1c0",
   "metadata": {},
   "source": [
    "##### **Index by userIds**\n",
    "The dataset is already grouped by userIds, we will therefore extract the movieIds and ratings then store them in a list called U_movies_ratings. This list we have all the movies watched by every user in our dataset and the ratings they gave to each movie sorted in the order of the userIds. Furthermore, to keep track of the movies watched by each user we will create two lists consisting of start and end indices for each user in the dataset."
   ]
  },
  {
   "cell_type": "code",
   "execution_count": 24,
   "id": "b6e6d4b3",
   "metadata": {},
   "outputs": [],
   "source": [
    "# Getting the list of movies and ratings\n",
    "U_movies_ratings = list(Ratings[['movieId','rating']].values)"
   ]
  },
  {
   "attachments": {},
   "cell_type": "markdown",
   "id": "b7dd75a4",
   "metadata": {},
   "source": [
    "Extracting the start and end indices for userId and movieId"
   ]
  },
  {
   "cell_type": "code",
   "execution_count": 25,
   "id": "3d3cdbb6",
   "metadata": {},
   "outputs": [],
   "source": [
    "# define lambda functions to extract the start and end indices\n",
    "get_strt_indx  = lambda x: x.index[0]\n",
    "get_end_indx = lambda x: x.index[-1]"
   ]
  },
  {
   "cell_type": "code",
   "execution_count": 26,
   "id": "830bd47c",
   "metadata": {},
   "outputs": [
    {
     "name": "stdout",
     "output_type": "stream",
     "text": [
      "[0, 232, 261, 300, 516, 560, 874, 1026, 1073, 1119, 1259, 1323, 1355, 1386, 1434, 1569, 1667, 1772, 2274, 2977]\n",
      "[231, 260, 299, 515, 559, 873, 1025, 1072, 1118, 1258, 1322, 1354, 1385, 1433, 1568, 1666, 1771, 2273, 2976, 3218]\n"
     ]
    }
   ],
   "source": [
    "# applying the lambda function to the get the user start and end indices\n",
    "user_strtsIdx = list(Ratings.groupby('userId').apply(get_strt_indx))\n",
    "user_endsIdx = list(Ratings.groupby('userId').apply(get_end_indx))\n",
    "print(user_strtsIdx[0:20])\n",
    "print(user_endsIdx[0:20])"
   ]
  },
  {
   "attachments": {},
   "cell_type": "markdown",
   "id": "ce558afc",
   "metadata": {},
   "source": [
    "##### **Index by MovieIds**\n",
    "In order to index the dataset by movies, we first group the dataset by movieID and sort all the userIds corresponding to each movieId in ascending order. We then extract userIds and ratings in a list to store the users who watched the movies and the ratings they gave to each movie sorted in the order of the movieIds. Lastly, to keep track of the users who watched a specific movie we create two lists consisting of start and end indices for each movie in the dataset."
   ]
  },
  {
   "cell_type": "code",
   "execution_count": 27,
   "id": "675d542b",
   "metadata": {},
   "outputs": [
    {
     "data": {
      "text/html": [
       "<div>\n",
       "<style scoped>\n",
       "    .dataframe tbody tr th:only-of-type {\n",
       "        vertical-align: middle;\n",
       "    }\n",
       "\n",
       "    .dataframe tbody tr th {\n",
       "        vertical-align: top;\n",
       "    }\n",
       "\n",
       "    .dataframe thead th {\n",
       "        text-align: right;\n",
       "    }\n",
       "</style>\n",
       "<table border=\"1\" class=\"dataframe\">\n",
       "  <thead>\n",
       "    <tr style=\"text-align: right;\">\n",
       "      <th></th>\n",
       "      <th>userId</th>\n",
       "      <th>movieId</th>\n",
       "      <th>rating</th>\n",
       "      <th>timestamp</th>\n",
       "    </tr>\n",
       "  </thead>\n",
       "  <tbody>\n",
       "    <tr>\n",
       "      <th>0</th>\n",
       "      <td>0</td>\n",
       "      <td>0</td>\n",
       "      <td>4.0</td>\n",
       "      <td>964982703</td>\n",
       "    </tr>\n",
       "    <tr>\n",
       "      <th>1</th>\n",
       "      <td>4</td>\n",
       "      <td>0</td>\n",
       "      <td>4.0</td>\n",
       "      <td>847434962</td>\n",
       "    </tr>\n",
       "    <tr>\n",
       "      <th>2</th>\n",
       "      <td>6</td>\n",
       "      <td>0</td>\n",
       "      <td>4.5</td>\n",
       "      <td>1106635946</td>\n",
       "    </tr>\n",
       "    <tr>\n",
       "      <th>3</th>\n",
       "      <td>14</td>\n",
       "      <td>0</td>\n",
       "      <td>2.5</td>\n",
       "      <td>1510577970</td>\n",
       "    </tr>\n",
       "    <tr>\n",
       "      <th>4</th>\n",
       "      <td>16</td>\n",
       "      <td>0</td>\n",
       "      <td>4.5</td>\n",
       "      <td>1305696483</td>\n",
       "    </tr>\n",
       "  </tbody>\n",
       "</table>\n",
       "</div>"
      ],
      "text/plain": [
       "   userId  movieId  rating   timestamp\n",
       "0       0        0     4.0   964982703\n",
       "1       4        0     4.0   847434962\n",
       "2       6        0     4.5  1106635946\n",
       "3      14        0     2.5  1510577970\n",
       "4      16        0     4.5  1305696483"
      ]
     },
     "execution_count": 27,
     "metadata": {},
     "output_type": "execute_result"
    }
   ],
   "source": [
    "# Sort the DataFrame by movieIds in ascending order\n",
    "Ratings_by_mIDs = Ratings.sort_values(['movieId', 'userId'])\n",
    "Ratings_by_mIDs = Ratings_by_mIDs.reset_index(drop=True)\n",
    "# Print the sorted DataFrame\n",
    "Ratings_by_mIDs.head()"
   ]
  },
  {
   "cell_type": "code",
   "execution_count": 28,
   "id": "b0d914e2",
   "metadata": {},
   "outputs": [],
   "source": [
    "# Getting the list of users and ratings\n",
    "M_users_ratings = list(Ratings_by_mIDs[['userId','rating']].values)"
   ]
  },
  {
   "cell_type": "code",
   "execution_count": 29,
   "id": "4fc440bd",
   "metadata": {},
   "outputs": [
    {
     "name": "stdout",
     "output_type": "stream",
     "text": [
      "[0, 215, 325, 377, 384, 433, 535, 589, 597, 613, 745, 815, 834, 842, 860, 873, 955, 1022, 1042, 1130]\n",
      "[214, 324, 376, 383, 432, 534, 588, 596, 612, 744, 814, 833, 841, 859, 872, 954, 1021, 1041, 1129, 1144]\n"
     ]
    }
   ],
   "source": [
    "# applying the lambda function to the get the movie start and end indices\n",
    "movie_strtsIdx = list(Ratings_by_mIDs.groupby('movieId').apply(get_strt_indx))\n",
    "movie_endsIdx = list(Ratings_by_mIDs.groupby('movieId').apply(get_end_indx))\n",
    "print(movie_strtsIdx[0:20])\n",
    "print(movie_endsIdx[0:20])"
   ]
  },
  {
   "attachments": {},
   "cell_type": "markdown",
   "id": "7ca61ac1",
   "metadata": {},
   "source": [
    "#### **Building a Model that finds MLE for user + Item baises with Alternating Least Squares**"
   ]
  },
  {
   "attachments": {},
   "cell_type": "markdown",
   "id": "dc448b4f",
   "metadata": {},
   "source": [
    "##### **Helper functions for user_movie_ratings and movie_user_ratings**\n",
    "\n",
    "Below are some help functions to assist us to retrieve the movies watched by each user and the ratings they gave to these movies, as well each movies and the users who watched the given movie and their ratings in a list of tupples."
   ]
  },
  {
   "cell_type": "code",
   "execution_count": 106,
   "id": "1a8632c3",
   "metadata": {},
   "outputs": [],
   "source": [
    "# Extracting the number of unique users and movies.\n",
    "M = len(Ratings['userId'].unique())\n",
    "N = len(Ratings['movieId'].unique())"
   ]
  },
  {
   "cell_type": "code",
   "execution_count": 31,
   "id": "cb5869bf",
   "metadata": {},
   "outputs": [
    {
     "name": "stdout",
     "output_type": "stream",
     "text": [
      "232\n",
      "215\n"
     ]
    }
   ],
   "source": [
    "# Defining the function to get (movieId, rating) pairs for a given user\n",
    "def get_m_movies_ratings(m):\n",
    "    m_movies_ratings = U_movies_ratings[user_strtsIdx[m]:user_endsIdx[m]+1]\n",
    "    return m_movies_ratings\n",
    "\n",
    "def get_n_users_ratings(n):\n",
    "    n_users_ratings = M_users_ratings[movie_strtsIdx[n]:movie_endsIdx[n]+1]\n",
    "    return n_users_ratings\n",
    "\n",
    "print(len(get_m_movies_ratings(0)))\n",
    "print(len(get_n_users_ratings(0)))"
   ]
  },
  {
   "cell_type": "code",
   "execution_count": 107,
   "id": "b293823b",
   "metadata": {},
   "outputs": [
    {
     "name": "stdout",
     "output_type": "stream",
     "text": [
      "Iteration 0: loss = -9982.084, RMSE = 0.804289\n",
      "Iteration 1: loss = -9582.018, RMSE = 0.787351\n",
      "Iteration 2: loss = -9555.015, RMSE = 0.786098\n",
      "Iteration 3: loss = -9552.305, RMSE = 0.785955\n",
      "Iteration 4: loss = -9551.650, RMSE = 0.785928\n",
      "Iteration 5: loss = -9551.228, RMSE = 0.785921\n",
      "Iteration 6: loss = -9550.847, RMSE = 0.785918\n",
      "Iteration 7: loss = -9550.479, RMSE = 0.785917\n",
      "Iteration 8: loss = -9550.119, RMSE = 0.785916\n",
      "Iteration 9: loss = -9549.766, RMSE = 0.785916\n",
      "Iteration 10: loss = -9549.421, RMSE = 0.785916\n",
      "Iteration 11: loss = -9549.082, RMSE = 0.785916\n",
      "Iteration 12: loss = -9548.750, RMSE = 0.785915\n",
      "Iteration 13: loss = -9548.424, RMSE = 0.785915\n",
      "Iteration 14: loss = -9548.104, RMSE = 0.785915\n",
      "Iteration 15: loss = -9547.791, RMSE = 0.785915\n",
      "Iteration 16: loss = -9547.484, RMSE = 0.785915\n",
      "Iteration 17: loss = -9547.182, RMSE = 0.785915\n",
      "Iteration 18: loss = -9546.887, RMSE = 0.785914\n",
      "Iteration 19: loss = -9546.597, RMSE = 0.785914\n",
      "Iteration 20: loss = -9546.313, RMSE = 0.785914\n",
      "Iteration 21: loss = -9546.034, RMSE = 0.785914\n",
      "Iteration 22: loss = -9545.761, RMSE = 0.785914\n",
      "Iteration 23: loss = -9545.493, RMSE = 0.785914\n",
      "Iteration 24: loss = -9545.231, RMSE = 0.785914\n",
      "Iteration 25: loss = -9544.973, RMSE = 0.785914\n",
      "Iteration 26: loss = -9544.720, RMSE = 0.785914\n",
      "Iteration 27: loss = -9544.473, RMSE = 0.785914\n",
      "Iteration 28: loss = -9544.230, RMSE = 0.785914\n",
      "Iteration 29: loss = -9543.991, RMSE = 0.785914\n"
     ]
    }
   ],
   "source": [
    "# Initializing the user and item bias terms to small random values\n",
    "user_bias = np.zeros(M) \n",
    "item_bias = np.zeros(N)\n",
    "\n",
    "## Defining the regularization parameters\n",
    "lamda = 0.3\n",
    "alpha = 0.03\n",
    "\n",
    "\n",
    "# Define maximum number of iterations and convergence threshold\n",
    "N_iterations = 30\n",
    "tol = 1e-3\n",
    "\n",
    "# Initialize iteration counter and convergence flag\n",
    "iter_count = 0\n",
    "converged = False\n",
    "\n",
    "# Lists to store loss and RMSE values over iterations\n",
    "LOSS = []\n",
    "RMSE = []\n",
    "\n",
    "# Main loop for alternating least squares\n",
    "while iter_count < N_iterations:\n",
    "    # Fix user biases and solve for item biases\n",
    "    for m in range(M):\n",
    "        numerator = 0\n",
    "        denominator = alpha\n",
    "        m_movies_n_ratings = U_movies_ratings[user_strtsIdx[m]:user_endsIdx[m]+1]#get_m_movies_ratings(m)\n",
    "        for n,r in m_movies_n_ratings:\n",
    "            numerator+=lamda*(r- item_bias[int(n)])\n",
    "            denominator+= lamda\n",
    "        user_bias[m] = numerator/denominator\n",
    "\n",
    "    # Fix user biases and solve for item biases\n",
    "    for n in range(N):\n",
    "        numerator = 0\n",
    "        denominator = alpha\n",
    "        n_users_n_ratings =  M_users_ratings[movie_strtsIdx[n]:movie_endsIdx[n]+1]#get_n_users_ratings(n)\n",
    "        for m,r in n_users_n_ratings:\n",
    "            numerator += lamda*(r - user_bias[int(m)])  # subtract user bias\n",
    "            denominator += lamda\n",
    "        item_bias[n] = numerator/denominator\n",
    "\n",
    "\n",
    "    # Compute total loss and RMSE\n",
    "    loss = -0.5 * lamda*np.sum((Ratings['rating'] - (user_bias[Ratings['userId']] + item_bias[Ratings['movieId']])) ** 2)\n",
    "    loss -= 0.5 * alpha*(np.sum(user_bias ** 2) + np.sum(item_bias ** 2))\n",
    "    rmse = np.sqrt(np.mean((Ratings['rating'] - (user_bias[Ratings['userId']] + item_bias[Ratings['movieId']])) ** 2))\n",
    "\n",
    "    print(f'Iteration {iter_count}: loss = {loss:.3f}, RMSE = {rmse:.6f}')\n",
    "    LOSS.append(loss)\n",
    "    RMSE.append(rmse)\n",
    "\n",
    "    iter_count += 1"
   ]
  },
  {
   "attachments": {},
   "cell_type": "markdown",
   "id": "75356bc1",
   "metadata": {},
   "source": [
    "### Building a Model that finds MLE for user + Item baises with Alternating Least Squares"
   ]
  },
  {
   "attachments": {},
   "cell_type": "markdown",
   "id": "4d561f0e",
   "metadata": {},
   "source": [
    "Plotting the loss and RMSE"
   ]
  },
  {
   "cell_type": "code",
   "execution_count": 108,
   "id": "b9b2efdb",
   "metadata": {},
   "outputs": [
    {
     "data": {
      "image/png": "[encoded data removed]",
      "text/plain": [
       "<Figure size 600x400 with 1 Axes>"
      ]
     },
     "metadata": {},
     "output_type": "display_data"
    }
   ],
   "source": [
    "plt.figure(figsize=(6,4))\n",
    "plt.plot(LOSS)\n",
    "plt.xlabel('Training epochs')\n",
    "plt.ylabel('loss')\n",
    "plt.title('Loss (loglikelihood)')\n",
    "plt.show()\n"
   ]
  },
  {
   "cell_type": "code",
   "execution_count": 109,
   "id": "bc97748e",
   "metadata": {},
   "outputs": [
    {
     "data": {
      "image/png": "[encoded data removed]",
      "text/plain": [
       "<Figure size 600x400 with 1 Axes>"
      ]
     },
     "metadata": {},
     "output_type": "display_data"
    }
   ],
   "source": [
    "plt.figure(figsize=(6,4))\n",
    "plt.plot(RMSE)\n",
    "plt.xlabel('Training epochs')\n",
    "plt.ylabel('RMSE')\n",
    "plt.title('Root Mean Squared Error')\n",
    "plt.show()"
   ]
  },
  {
   "attachments": {},
   "cell_type": "markdown",
   "id": "26ac3962",
   "metadata": {},
   "source": [
    "### Building a Model that finds MLE for user + Item baises + latent trait vectors/factors with Alternating Least Squares"
   ]
  },
  {
   "cell_type": "code",
   "execution_count": 36,
   "id": "243199b6",
   "metadata": {},
   "outputs": [
    {
     "name": "stdout",
     "output_type": "stream",
     "text": [
      "-33743.522055160385 1.0040960592482588\n",
      "-26855.20696555663 0.7962208328558382\n",
      "-22911.936809752344 0.7168857007816891\n",
      "-20409.033350477774 0.688113132716116\n",
      "-18561.059618068673 0.6761611145328612\n",
      "-17171.75022397535 0.6699472553434607\n",
      "-16114.707060151837 0.6662388502727841\n",
      "-15297.100641841214 0.6638573146962871\n",
      "-14654.283167850088 0.6622524742870523\n",
      "-14141.515619444996 0.6611257842369713\n",
      "-13727.285952219876 0.6603021813905398\n",
      "-13388.916966084018 0.6596753184252508\n",
      "-13109.77633402901 0.6591794216779965\n",
      "-12877.464606105006 0.6587732386291483\n",
      "-12682.601459815975 0.6584305203979705\n",
      "-12517.993580861099 0.6581342965468937\n",
      "-12378.054781574763 0.6578734037562679\n",
      "-12258.39646965106 0.6576403620868576\n",
      "-12155.534702286877 0.6574300546711883\n",
      "-12066.677804505067 0.6572388880303077\n",
      "-11989.570171649644 0.6570642471266884\n",
      "-11922.375686967087 0.6569041398046934\n",
      "-11863.5894665779 0.6567569690114731\n",
      "-11811.97020382389 0.6566213933536122\n",
      "-11766.487766517692 0.656496247786568\n",
      "-11726.282285324842 0.6563805028675966\n",
      "-11690.6320267911 0.6562732460769175\n",
      "-11658.928053809466 0.6561736733010939\n",
      "-11630.654162190578 0.6560810827944782\n",
      "-11605.37092491857 0.6559948675665143\n",
      "The algorithm converged after 30 iterations with a loss of -11605.3709 and RMSE of 0.6560\n"
     ]
    }
   ],
   "source": [
    "# Initialize user and item bias to zero\n",
    "user_bias = np.zeros(M) \n",
    "item_bias = np.zeros(N) \n",
    "\n",
    "# Defining the regularization parameters\n",
    "alpha = 0.09\n",
    "lamda = 0.001\n",
    "tau = 0.01\n",
    "tol = 1e-4\n",
    "\n",
    "# Define number of latent dimensions and number of iterations\n",
    "K = 20\n",
    "\n",
    "iter_count = 0\n",
    "# Initialize user and item latent factor matrices to small random values\n",
    "mu,sigma = 0, 2.5/np.sqrt(K) #mean rating and standard deviation \n",
    "user_factors = np.random.normal(mu, sigma, (M, K)) \n",
    "item_factors = np.random.normal(mu, sigma, (N, K))\n",
    "np.random.seed(10)\n",
    "\n",
    "# Defining the driver fuction for computing the loss as negative log likelihood\n",
    "def loss_function():\n",
    "   predicted_ratings = np.zeros(len(Ratings))\n",
    "   U_T_V, U_U_T, V_V_T, U_bias, I_bias =  np.zeros(len(Ratings)), np.zeros(len(Ratings)), np.zeros(len(Ratings)), np.zeros(len(Ratings)), np.zeros(len(Ratings))\n",
    "   for i, row in Ratings.iterrows():\n",
    "     U_T_V[i] = np.dot(user_factors[int(row['userId'])], item_factors[int(row['movieId'])])\n",
    "     U_U_T[i] = np.dot(user_factors[int(row['userId'])], user_factors[int(row['userId'])])\n",
    "     V_V_T[i] = np.dot(item_factors[int(row['movieId'])], item_factors[int(row['movieId'])])\n",
    "     predicted_ratings[i] = user_bias[int(row['userId'])] + item_bias[int(row['movieId'])] + \\\n",
    "                            np.dot(user_factors[int(row['userId'])], item_factors[int(row['movieId'])])\n",
    "     U_bias[i] = user_bias[int(row['userId'])]**2\n",
    "     I_bias[i] = item_bias[int(row['movieId'])]**2\n",
    "   loss = -0.5*lamda*np.sum((Ratings['rating'] - predicted_ratings)**2)-0.5*tau*np.sum(U_U_T)-0.5*tau*np.sum(V_V_T)- \\\n",
    "          0.5*alpha*np.sum(U_bias)-0.5*alpha*np.sum(I_bias)\n",
    "   rmse = np.sqrt(np.sum((Ratings['rating'] - predicted_ratings)**2)/len(Ratings))\n",
    "   return loss, rmse\n",
    "\n",
    "# Empty lists to store the loss and rmse\n",
    "LOSS = []\n",
    "RMSE = []\n",
    "N_iterations = 30\n",
    "#Begining of the ALS algorithm\n",
    "for iteration in range(N_iterations):\n",
    "        # Fix item biases and latent factors/vectors and update the user biases and latent factors/vectors\n",
    "        for m in range(M):\n",
    "            # select movies watched and rated by user m \n",
    "            m_movies_n_ratings = U_movies_ratings[user_strtsIdx[m]:user_endsIdx[m]+1]\n",
    "            \n",
    "            # update user biases\n",
    "            numerator = 0\n",
    "            denominator = alpha\n",
    "            #movies watched by user m and their ratings.\n",
    "            for n,r in m_movies_n_ratings:\n",
    "                numerator += lamda*(r - np.dot(user_factors[m], item_factors[int(n)])-item_bias[int(n)]) \n",
    "                denominator += lamda\n",
    "            user_bias[m] = numerator / denominator #update user m's bias\n",
    "\n",
    "            # Update the user latent factors/vectors\n",
    "            numerator = np.zeros(K)\n",
    "            denominator = tau * np.eye(K)\n",
    "            for n,r in m_movies_n_ratings:\n",
    "                numerator += lamda*(r - user_bias[m] - item_bias[int(n)]) * item_factors[int(n)]\n",
    "                denominator += lamda*np.outer(item_factors[int(n)], item_factors[int(n)])\n",
    "            user_factors[m] = np.linalg.solve(denominator, numerator) #update user m's factor\n",
    "\n",
    "        # Fix user biases and latent factors/vectors and update the item biases and latent factors/vectors\n",
    "        for n in range(N):\n",
    "            # select users who watched and rated movie n\n",
    "            n_users_n_ratings =  M_users_ratings[movie_strtsIdx[n]:movie_endsIdx[n]+1] \n",
    "\n",
    "            #update item biases\n",
    "            numerator = 0\n",
    "            denominator = alpha\n",
    "            for m,r in n_users_n_ratings:\n",
    "                numerator += lamda*(r - np.dot(user_factors[int(m)],  item_factors[n])- user_bias[int(m)]) \n",
    "                denominator += lamda\n",
    "            item_bias[n] = numerator / denominator #update item n's bias\n",
    "\n",
    "            # update item latent vectors/factors\n",
    "            numerator = np.zeros(K)\n",
    "            denominator = tau*np.eye(K)\n",
    "            for m,r in n_users_n_ratings:\n",
    "                numerator += lamda*(r - user_bias[int(m)]-item_bias[n])*user_factors[int(m)]\n",
    "                denominator += lamda*np.outer(user_factors[int(m)], user_factors[int(m)])\n",
    "            item_factors[n] = np.linalg.solve(denominator, numerator) # update item n's latent factor/vector\n",
    "\n",
    "        # Compute the loss and RMSE\n",
    "        loss, rmse = loss_function()\n",
    "\n",
    "        LOSS.append(loss)\n",
    "        RMSE.append(rmse)\n",
    "        print(loss,rmse)\n",
    "        iter_count += 1\n",
    "print(f'The algorithm converged after {iter_count} iterations with a loss of {loss:.4f} and RMSE of {rmse:.4f}')"
   ]
  },
  {
   "attachments": {},
   "cell_type": "markdown",
   "id": "36552340",
   "metadata": {},
   "source": [
    "Plotting the loss and RMSE"
   ]
  },
  {
   "cell_type": "code",
   "execution_count": 37,
   "id": "7f294f16",
   "metadata": {},
   "outputs": [
    {
     "data": {
      "image/png": "[encoded data removed]",
      "text/plain": [
       "<Figure size 600x400 with 1 Axes>"
      ]
     },
     "metadata": {},
     "output_type": "display_data"
    }
   ],
   "source": [
    "plt.figure(figsize=(6,4))\n",
    "plt.plot(LOSS)\n",
    "plt.xlabel('Training epochs')\n",
    "plt.ylabel('loss')\n",
    "plt.title('Loss (loglikelihood)')\n",
    "plt.show()"
   ]
  },
  {
   "attachments": {},
   "cell_type": "markdown",
   "id": "65f1ebf0",
   "metadata": {},
   "source": [
    "Plotting the Room Mean Square Error"
   ]
  },
  {
   "cell_type": "code",
   "execution_count": 38,
   "id": "bb7855c8",
   "metadata": {},
   "outputs": [
    {
     "data": {
      "image/png": "[encoded data removed]",
      "text/plain": [
       "<Figure size 600x400 with 1 Axes>"
      ]
     },
     "metadata": {},
     "output_type": "display_data"
    }
   ],
   "source": [
    "#plotting the RMSE\n",
    "plt.figure(figsize=(6,4))\n",
    "plt.plot(RMSE)\n",
    "plt.xlabel('Training epochs')\n",
    "plt.ylabel('RMSE')\n",
    "plt.title('Root Mean Squared Error')\n",
    "plt.show()"
   ]
  },
  {
   "attachments": {},
   "cell_type": "markdown",
   "id": "9f033ef0",
   "metadata": {},
   "source": [
    "#### Parallelization"
   ]
  },
  {
   "cell_type": "code",
   "execution_count": 40,
   "id": "bed418e4",
   "metadata": {},
   "outputs": [],
   "source": [
    "from multiprocessing import Pool\n",
    "\n",
    "# Set the number of cores to use\n",
    "num_cores = mp.cpu_count()\n",
    "\n",
    "# Define a function to update user biases and factors in parallel\n",
    "def update_user(m):\n",
    "    # select movies watched and rated by user m \n",
    "    m_movies_n_ratings = U_movies_ratings[user_strtsIdx[m]:user_endsIdx[m]+1]\n",
    "            \n",
    "    # update user biases\n",
    "    numerator = 0\n",
    "    denominator = alpha\n",
    "    #movies watched by user m and their ratings.\n",
    "    for n,r in m_movies_n_ratings:\n",
    "        numerator += lamda*(r - np.dot(user_factors[m], item_factors[int(n)])-item_bias[int(n)]) \n",
    "        denominator += lamda\n",
    "    user_bias[m] = numerator / denominator #update user m's bias\n",
    "\n",
    "    # Update the user latent factors/vectors\n",
    "    numerator = np.zeros(K)\n",
    "    denominator = tau * np.eye(K)\n",
    "    for n,r in m_movies_n_ratings:\n",
    "        numerator += lamda*(r - user_bias[m] - item_bias[int(n)]) * item_factors[int(n)]\n",
    "        denominator += lamda*np.outer(item_factors[int(n)], item_factors[int(n)])\n",
    "    user_factors[m] = np.linalg.solve(denominator, numerator) #update user m's factor\n",
    "\n",
    "    return user_bias, user_factors\n",
    "\n",
    "# Define a function to update item biases and factors in parallel\n",
    "def update_item(n):\n",
    "    # select users who watched and rated movie n\n",
    "    n_users_n_ratings =  M_users_ratings[movie_strtsIdx[n]:movie_endsIdx[n]+1] \n",
    "\n",
    "    #update item biases\n",
    "    numerator = 0\n",
    "    denominator = alpha\n",
    "    for m,r in n_users_n_ratings:\n",
    "        numerator += lamda*(r - np.dot(user_factors[int(m)],  item_factors[n])- user_bias[int(m)]) \n",
    "        denominator += lamda\n",
    "    item_bias[n] = numerator / denominator #update item n's bias\n",
    "\n",
    "    # update item latent vectors/factors\n",
    "    numerator = np.zeros(K)\n",
    "    denominator = tau*np.eye(K)\n",
    "    for m,r in n_users_n_ratings:\n",
    "        numerator += lamda*(r - user_bias[int(m)]-item_bias[n])*user_factors[int(m)]\n",
    "        denominator += lamda*np.outer(user_factors[int(m)], user_factors[int(m)])\n",
    "    item_factors[n] = np.linalg.solve(denominator, numerator) # update item n's latent factor/vector\n",
    "    return item_bias, item_factors\n",
    "\n",
    "\n",
    "#Begining of the ALS algorithm\n",
    "# Begining of the ALS algorithm\n",
    "for iteration in range(N_iterations):\n",
    "    # Fix item biases and latent factors/vectors and update the user biases and latent factors/vectors\n",
    "    with Pool(processes=num_cores) as pool:\n",
    "        pool.map(update_user, range(M))\n",
    "\n",
    "    # Fix user biases and latent factors/vectors and update the item biases and latent factors/vectors\n",
    "    with Pool(processes=num_cores) as pool:\n",
    "        pool.map(update_item, range(N))\n",
    "\n",
    "    # Compute the loss and RMSE\n",
    "    loss, rmse = loss_function()\n",
    "\n",
    "    LOSS.append(loss)\n",
    "    RMSE.append(rmse)\n",
    "    iter_count += 1"
   ]
  },
  {
   "cell_type": "code",
   "execution_count": 41,
   "id": "dbef6813",
   "metadata": {},
   "outputs": [
    {
     "data": {
      "image/png": "[encoded data removed]",
      "text/plain": [
       "<Figure size 640x480 with 1 Axes>"
      ]
     },
     "metadata": {},
     "output_type": "display_data"
    }
   ],
   "source": [
    "plt.plot(LOSS)\n",
    "plt.xlabel('Epoch')\n",
    "plt.ylabel('loss')\n",
    "plt.title('Loss (loglikelihood)')\n",
    "plt.show()"
   ]
  },
  {
   "cell_type": "code",
   "execution_count": 42,
   "id": "4dbdb345",
   "metadata": {},
   "outputs": [
    {
     "data": {
      "image/png": "[encoded data removed]",
      "text/plain": [
       "<Figure size 640x480 with 1 Axes>"
      ]
     },
     "metadata": {},
     "output_type": "display_data"
    }
   ],
   "source": [
    "#plotting the RMSE\n",
    "plt.plot(RMSE)\n",
    "plt.xlabel('Epoch')\n",
    "plt.ylabel('RMSE')\n",
    "plt.title('Root Mean Squared Error')\n",
    "plt.show()"
   ]
  },
  {
   "attachments": {},
   "cell_type": "markdown",
   "id": "2bce82bf",
   "metadata": {},
   "source": [
    "## Feature Embeddings\n",
    "\n",
    "In a recommendation system, we might want to map users and items into a lower-dimensional space so that we can visualize how they relate to each other and make recommendations based on their similarity. After training the ALS algorithm, plotting the embeddings in a 2D space can give us insights into how users and items are related to each other based on their latent factors as shown below:"
   ]
  },
  {
   "cell_type": "code",
   "execution_count": 43,
   "id": "87b9657d",
   "metadata": {},
   "outputs": [
    {
     "data": {
      "image/png": "[encoded data removed]",
      "text/plain": [
       "<Figure size 600x400 with 1 Axes>"
      ]
     },
     "metadata": {},
     "output_type": "display_data"
    }
   ],
   "source": [
    "#Get the list of all movie titles\n",
    "movie_titles = list(movies_df['title'])\n",
    "\n",
    "# Select a random subset of 200 users and 500 movies\n",
    "np.random.seed(44)\n",
    "movie_subset = np.random.choice(N, size=500, replace=False)\n",
    "user_subset = np.random.choice(M, size=200, replace=False)\n",
    "\n",
    "# apply PCA to the item features and users embeddings separately\n",
    "pca_item = PCA(n_components=2)\n",
    "pca_user = PCA(n_components=2)\n",
    "X_item_pca = pca_item.fit_transform(item_factors)\n",
    "X_user_pca = pca_user.fit_transform(user_factors)\n",
    "\n",
    "fig, ax = plt.subplots(figsize=(6, 4))\n",
    "\n",
    "# add a line at x=0 and y=0\n",
    "ax.axhline(y=0, color='gray', linestyle='-')\n",
    "ax.axvline(x=0, color='gray', linestyle='-')\n",
    "\n",
    "# Plot the user factors embeddings in 2D\n",
    "ax.scatter(X_user_pca[user_subset, 0], X_user_pca[user_subset, 1], marker = 'x', color = 'red', label = 'User', s=15)\n",
    "\n",
    "# Plot the item factors embeddings in 2D\n",
    "ax.scatter(X_item_pca[movie_subset, 0], X_item_pca[movie_subset, 1], marker='x', color ='blue', label = 'Item', s =15)\n",
    "ax.legend( loc='best')\n",
    "plt.title('Movie-User Embeddings')\n",
    "\n",
    "# remove x and y axis\n",
    "plt.axis('off')\n",
    "\n",
    "\n",
    "# add titles for a few movies\n",
    "movie_indices = [0, 10,15, 20, 49, 500] # assume these are the indices of the movies in your dataset\n",
    "selected_movies = np.array(movie_titles)[movie_indices]\n",
    "\n",
    "for title, index in zip(selected_movies, movie_indices):\n",
    "    ax.text(X_item_pca[index, 0], X_item_pca[index, 1], title)\n",
    "\n",
    "\n",
    "# show the plot\n",
    "plt.show()\n"
   ]
  },
  {
   "attachments": {},
   "cell_type": "markdown",
   "id": "e441e105",
   "metadata": {},
   "source": [
    "Item feautures embeddings"
   ]
  },
  {
   "cell_type": "code",
   "execution_count": 44,
   "id": "0f1eac2f",
   "metadata": {},
   "outputs": [
    {
     "data": {
      "image/png": "[encoded data removed]",
      "text/plain": [
       "<Figure size 700x500 with 1 Axes>"
      ]
     },
     "metadata": {},
     "output_type": "display_data"
    }
   ],
   "source": [
    "#Get the list of all movie titles\n",
    "movie_titles = list(movies_df['title'])\n",
    "\n",
    "# Extract the unique genre labels\n",
    "genre_labels = set()\n",
    "for genres in movies_df['genres']:\n",
    "    genre_labels.update(genres.split('|'))\n",
    "    \n",
    "genre_labels = list(genre_labels)\n",
    "\n",
    "# Encode the movie genres as binary variables using one-hot encoding\n",
    "movie_genres = []\n",
    "for genres in movies_df['genres']:\n",
    "    one_hot = np.zeros(len(genre_labels))\n",
    "    for genre in genres.split('|'):\n",
    "        one_hot[genre_labels.index(genre)] = 1\n",
    "    movie_genres.append(one_hot)\n",
    "\n",
    "movie_genres = np.array(movie_genres)\n",
    "\n",
    "\n",
    "# create a dictionary mapping genres to markers\n",
    "genres_markers = {}\n",
    "markers = ['o','.',',','x','+','v','^','<','>','1','2','3','4','s','p','*','h','H','D','d']\n",
    "for i in range(len(genre_labels)):\n",
    "    genres_markers[genre_labels[i]] = markers[i]\n",
    "genres_markers\n",
    "\n",
    "# Select 50 randomly sampled movie titles and their corresponding one-hot encoded genres\n",
    "n_movies =100\n",
    "np.random.seed(14)\n",
    "idx = np.random.choice(len(movie_titles), n_movies, replace=False)\n",
    "selected_movie_titles = np.array(movie_titles)[idx]\n",
    "selected_movie_genres = movie_genres[idx, :]\n",
    "\n",
    "# apply PCA to reduce dimensionality of movie feature vectors to 2\n",
    "genres = movies_df['genres'].str.split('|')\n",
    "pca = PCA(n_components=2)\n",
    "item_factors_2d = pca.fit_transform(item_factors)\n",
    "\n",
    "# plot the movie feature vectors embedded in R2, tagged by genre\n",
    "fig, ax = plt.subplots(figsize=(7, 5))\n",
    "\n",
    "# add a line at x=0 and y=0\n",
    "# ax.axhline(y=0, color='gray', linestyle='-')\n",
    "# ax.axvline(x=0, color='gray', linestyle='-')\n",
    "\n",
    "legend_labels = []\n",
    "# plot the movie feature vectors embedded in R2, tagged by genre\n",
    "for i in range(n_movies):\n",
    "    for genre in genres[i]:\n",
    "        marker = genres_markers.get(genre)\n",
    "        marker_index = markers.index(marker)\n",
    "        if genre not in legend_labels:\n",
    "            ax.scatter(item_factors_2d[i, 0], item_factors_2d[i, 1], marker=marker, label=genre, alpha=0.5)\n",
    "            legend_labels.append(genre)\n",
    "        else:\n",
    "             ax.scatter(item_factors_2d[i, 0], item_factors_2d[i, 1], marker=marker, alpha=0.5)\n",
    "             \n",
    "        \n",
    "        # Add title for 10 randomly selected movies in our sampled movie list. \n",
    "        if i in np.random.choice(range(n_movies), 7):\n",
    "            ax.text(item_factors_2d[i, 0], item_factors_2d[i, 1], selected_movie_titles[i], fontsize=8)\n",
    "        \n",
    "# Add the legend outside the plot\n",
    "plt.legend(bbox_to_anchor=(1.05, 1), loc='best')\n",
    "\n",
    "# remove the axis\n",
    "# remove x and y ticks and labels\n",
    "ax.tick_params(axis='both', which='both', length=0, width=0, labelbottom=False, labelleft=False)\n",
    "\n",
    "\n",
    "\n",
    "# show the plot\n",
    "plt.show()"
   ]
  },
  {
   "attachments": {},
   "cell_type": "markdown",
   "id": "137e66bf",
   "metadata": {},
   "source": [
    "### Making Some Recommendations\n",
    "\n",
    "To recommend movies to a user based on the movies they watched, we can use collaborative filtering techniques by exploiting the similarities between users or items to generate personalized recommendations. To approach this, we will  make use of the user-item matrix generated during the ALS algorithm training to predict ratings for unseen movies based on the user's previous ratings and similar users' ratings. We can then recommend the movies with the highest predicted ratings to the user."
   ]
  },
  {
   "cell_type": "code",
   "execution_count": 45,
   "id": "9106cc9c",
   "metadata": {},
   "outputs": [
    {
     "data": {
      "text/plain": [
       "(610, 9724)"
      ]
     },
     "execution_count": 45,
     "metadata": {},
     "output_type": "execute_result"
    }
   ],
   "source": [
    "predicted_ratings = np.dot(user_factors, item_factors.T)\n",
    "predicted_ratings.shape"
   ]
  },
  {
   "attachments": {},
   "cell_type": "markdown",
   "id": "c7f7cbdd",
   "metadata": {},
   "source": [
    "#### **Denstrating the Napolean Dynamite effect**\n",
    "The \"Napoleon Dynamite effect\" is a phenomenon where certain movies receive extremely high or extremely low ratings despite their overall quality. To demonstrate this effect after training an ALS model, we will calculate the average rating for each movie and plot the distribution of ratings as shown below:"
   ]
  },
  {
   "cell_type": "code",
   "execution_count": 46,
   "id": "c99b88d1",
   "metadata": {},
   "outputs": [
    {
     "data": {
      "image/png": "[encoded data removed]",
      "text/plain": [
       "<Figure size 600x400 with 1 Axes>"
      ]
     },
     "metadata": {},
     "output_type": "display_data"
    }
   ],
   "source": [
    "# calculate the average rating for each movie\n",
    "Mean_ratings = np.mean(predicted_ratings, axis = 0)\n",
    "\n",
    "# plot the distribution of movie ratings\n",
    "plt.figure(figsize=(6,4))\n",
    "plt.hist(Mean_ratings, bins=50, color='green')\n",
    "\n",
    "# add annotation for the minimum value\n",
    "min_val = np.min(plt.hist(Mean_ratings, bins=50)[0])\n",
    "min_index = np.argmin(plt.hist(Mean_ratings, bins=50)[0])\n",
    "plt.annotate('most plarized movies', xy=(plt.hist(Mean_ratings, bins=50)[1][min_index], min_val), xytext=(plt.hist(Mean_ratings, bins=50)[1][min_index]-2.0, min_val+9), arrowprops=dict(facecolor='red', shrink=0.05))\n",
    "\n",
    "# add annotation for the maximum value\n",
    "max_val = np.max(plt.hist(Mean_ratings, bins=50)[0])\n",
    "max_index = np.argmax(plt.hist(Mean_ratings, bins=50)[0])\n",
    "plt.annotate('Least polarized movies', xy=(plt.hist(Mean_ratings, bins=50)[1][max_index], max_val), xytext=(plt.hist(Mean_ratings, bins=50)[1][max_index]+0.5, max_val+10), arrowprops=dict(facecolor='red', shrink=0.05))\n",
    "\n",
    "plt.title('Ratings distribution')\n",
    "plt.xlabel('Average Rating')\n",
    "plt.ylabel('Count')\n",
    "plt.show()"
   ]
  },
  {
   "cell_type": "code",
   "execution_count": 47,
   "id": "bf5bf0cc",
   "metadata": {},
   "outputs": [
    {
     "name": "stdout",
     "output_type": "stream",
     "text": [
      "The least polarized movies are:\n",
      "##############################\n",
      "Ladies Man, The (2000)\n",
      "Crossroads (2002)\n",
      "Anne of the Thousand Days (1969)\n",
      "Super Size Me (2004)\n",
      "Me and You and Everyone We Know (2005)\n",
      "Superbad (2007)\n",
      "I Love You, Man (2009)\n",
      "5 to 7 (2014)\n",
      "April Morning (1988)\n",
      "Band of Brothers (2001)\n",
      "\n",
      "The least polarized movies are:\n",
      "###############################\n",
      "Braveheart (1995)\n",
      "Pulp Fiction (1994)\n",
      "Independence Day (a.k.a. ID4) (1996)\n",
      "Lawrence of Arabia (1962)\n",
      "Mr. Magoo (1997)\n",
      "Mister Roberts (1955)\n",
      "Lord of the Flies (1963)\n",
      "White Water Summer (1987)\n",
      "Shark Night 3D (2011)\n",
      "Safe (2012)\n"
     ]
    }
   ],
   "source": [
    "movie_variances = np.var(predicted_ratings, axis = 0)\n",
    "least_polarizing = movie_variances.argsort()[0:10]\n",
    "least_polarizing_movies = movies_df[movies_df['movieId'].isin(least_polarizing)]['title'].tolist()\n",
    "print('The least polarized movies are:')\n",
    "print('##############################')\n",
    "print(\"\\n\".join(least_polarizing_movies))\n",
    "\n",
    "# The top 10 most polarized movies\n",
    "most_polarizing =movie_variances.argsort()[::-1][0:10]\n",
    "most_polarizing_movies = movies_df[movies_df['movieId'].isin(most_polarizing)]['title'].tolist()\n",
    "print('\\nThe least polarized movies are:')\n",
    "print('###############################')\n",
    "print(\"\\n\".join(most_polarizing_movies))"
   ]
  },
  {
   "attachments": {},
   "cell_type": "markdown",
   "id": "b93dbc03",
   "metadata": {},
   "source": [
    "For each user, we would like to only recommend the movies that a user did not watch."
   ]
  },
  {
   "cell_type": "code",
   "execution_count": 48,
   "id": "dd99dc8c",
   "metadata": {},
   "outputs": [],
   "source": [
    "def Top_N_recommeded_to_user(user_id,num_recommendations):\n",
    "    #user_m's predicted scores\n",
    "    user_m_ratings = predicted_ratings[user_id] + user_bias[user_id] + item_bias\n",
    "    #Selecting the row correspinding to the given user in the sparse matrix\n",
    "    user_m_movies =  Spare_DF.iloc[user_id]\n",
    "    # Select movies not watched by the given user\n",
    "    unrated_movies = user_m_movies[user_m_movies==0]\n",
    "    rated_movies = user_m_movies[user_m_movies!=0]\n",
    "    # Select only the predicted ratings corresponding to the movies that are not watched by user_m and\n",
    "    # Sort the unwatched movies in the order of their predicted ratings scores to extract the top movieId.\n",
    "    Recommended_mIds = user_m_ratings[unrated_movies.index].argsort()\n",
    "\n",
    "    #Getting the top N recommended movies\n",
    "    recommended_movies = Recommended_mIds[:num_recommendations]\n",
    "    return rated_movies, recommended_movies"
   ]
  },
  {
   "cell_type": "code",
   "execution_count": 49,
   "id": "955450f8",
   "metadata": {},
   "outputs": [
    {
     "name": "stdout",
     "output_type": "stream",
     "text": [
      "The top 10 recommended movies for a user whose userId = 10 are:\n"
     ]
    },
    {
     "data": {
      "text/html": [
       "<div>\n",
       "<style scoped>\n",
       "    .dataframe tbody tr th:only-of-type {\n",
       "        vertical-align: middle;\n",
       "    }\n",
       "\n",
       "    .dataframe tbody tr th {\n",
       "        vertical-align: top;\n",
       "    }\n",
       "\n",
       "    .dataframe thead th {\n",
       "        text-align: right;\n",
       "    }\n",
       "</style>\n",
       "<table border=\"1\" class=\"dataframe\">\n",
       "  <thead>\n",
       "    <tr style=\"text-align: right;\">\n",
       "      <th></th>\n",
       "      <th>movieId</th>\n",
       "      <th>Title</th>\n",
       "      <th>Genres</th>\n",
       "      <th>Average Rating</th>\n",
       "    </tr>\n",
       "  </thead>\n",
       "  <tbody>\n",
       "    <tr>\n",
       "      <th>0</th>\n",
       "      <td>3004</td>\n",
       "      <td>Gift, The (2000)</td>\n",
       "      <td>Thriller</td>\n",
       "      <td>3.5</td>\n",
       "    </tr>\n",
       "    <tr>\n",
       "      <th>1</th>\n",
       "      <td>3014</td>\n",
       "      <td>Everlasting Piece, An (2000)</td>\n",
       "      <td>Comedy</td>\n",
       "      <td>2.6</td>\n",
       "    </tr>\n",
       "    <tr>\n",
       "      <th>2</th>\n",
       "      <td>3983</td>\n",
       "      <td>Secretary (2002)</td>\n",
       "      <td>Comedy|Drama|Romance</td>\n",
       "      <td>3.5</td>\n",
       "    </tr>\n",
       "    <tr>\n",
       "      <th>3</th>\n",
       "      <td>5477</td>\n",
       "      <td>Zabriskie Point (1970)</td>\n",
       "      <td>Drama|Romance</td>\n",
       "      <td>4.5</td>\n",
       "    </tr>\n",
       "    <tr>\n",
       "      <th>4</th>\n",
       "      <td>6582</td>\n",
       "      <td>Lust, Caution (Se, jie) (2007)</td>\n",
       "      <td>Drama|Romance|Thriller|War</td>\n",
       "      <td>3.0</td>\n",
       "    </tr>\n",
       "    <tr>\n",
       "      <th>5</th>\n",
       "      <td>6768</td>\n",
       "      <td>Spiral (2007)</td>\n",
       "      <td>Drama|Horror|Thriller</td>\n",
       "      <td>3.8</td>\n",
       "    </tr>\n",
       "    <tr>\n",
       "      <th>6</th>\n",
       "      <td>7081</td>\n",
       "      <td>Open Water 2: Adrift (2006)</td>\n",
       "      <td>Drama|Thriller</td>\n",
       "      <td>3.0</td>\n",
       "    </tr>\n",
       "    <tr>\n",
       "      <th>7</th>\n",
       "      <td>7108</td>\n",
       "      <td>G-Force (2009)</td>\n",
       "      <td>Action|Adventure|Children|Fantasy</td>\n",
       "      <td>4.0</td>\n",
       "    </tr>\n",
       "    <tr>\n",
       "      <th>8</th>\n",
       "      <td>8598</td>\n",
       "      <td>La Belle Verte (1996)</td>\n",
       "      <td>Comedy</td>\n",
       "      <td>3.5</td>\n",
       "    </tr>\n",
       "    <tr>\n",
       "      <th>9</th>\n",
       "      <td>9039</td>\n",
       "      <td>The Unauthorized Saved by the Bell Story (2014)</td>\n",
       "      <td>Comedy|Drama</td>\n",
       "      <td>1.5</td>\n",
       "    </tr>\n",
       "  </tbody>\n",
       "</table>\n",
       "</div>"
      ],
      "text/plain": [
       "   movieId                                            Title  \\\n",
       "0     3004                                 Gift, The (2000)   \n",
       "1     3014                     Everlasting Piece, An (2000)   \n",
       "2     3983                                 Secretary (2002)   \n",
       "3     5477                           Zabriskie Point (1970)   \n",
       "4     6582                   Lust, Caution (Se, jie) (2007)   \n",
       "5     6768                                    Spiral (2007)   \n",
       "6     7081                      Open Water 2: Adrift (2006)   \n",
       "7     7108                                   G-Force (2009)   \n",
       "8     8598                            La Belle Verte (1996)   \n",
       "9     9039  The Unauthorized Saved by the Bell Story (2014)   \n",
       "\n",
       "                              Genres  Average Rating  \n",
       "0                           Thriller             3.5  \n",
       "1                             Comedy             2.6  \n",
       "2               Comedy|Drama|Romance             3.5  \n",
       "3                      Drama|Romance             4.5  \n",
       "4         Drama|Romance|Thriller|War             3.0  \n",
       "5              Drama|Horror|Thriller             3.8  \n",
       "6                     Drama|Thriller             3.0  \n",
       "7  Action|Adventure|Children|Fantasy             4.0  \n",
       "8                             Comedy             3.5  \n",
       "9                       Comedy|Drama             1.5  "
      ]
     },
     "execution_count": 49,
     "metadata": {},
     "output_type": "execute_result"
    }
   ],
   "source": [
    "#Test\n",
    "user_id = 10\n",
    "num_recommendations =  10\n",
    "watched_movies, recommended_movies =  Top_N_recommeded_to_user(user_id,num_recommendations)\n",
    "recommended_movie_titles = movies_df.loc[(movies_df['movieId'].isin(recommended_movies))&(movies_df['movieId']!=user_id)]['title'].tolist()\n",
    "titles, Genres, average_rating, mIds = [], [], [], []\n",
    "for title in recommended_movie_titles:\n",
    "    movie_id = movies_df[movies_df['title']==title]['movieId'].values[0]\n",
    "    avrg_rating = round(Spare_DF[movie_id].sum()/np.count_nonzero(Spare_DF[movie_id]),1)\n",
    "    genre = movies_df[movies_df['title']==title]['genres'].values[0]\n",
    "    titles.append(title), Genres.append(genre), average_rating.append(avrg_rating), mIds.append(movie_id)\n",
    "    #print(\"{}: {} Average rating: {:.2f}\".format(title, genre,avrg_rating))\n",
    "\n",
    "Recommendations = pd.DataFrame({'movieId':mIds, 'Title': titles, 'Genres': Genres, 'Average Rating': average_rating})\n",
    "print('The top 10 recommended movies for a user whose userId = {} are:'.format(user_id))\n",
    "Recommendations\n"
   ]
  },
  {
   "cell_type": "code",
   "execution_count": 50,
   "id": "932e1588",
   "metadata": {},
   "outputs": [
    {
     "name": "stdout",
     "output_type": "stream",
     "text": [
      "The movies watched by the user whose userId = 10 are:\n"
     ]
    },
    {
     "data": {
      "text/html": [
       "<div>\n",
       "<style scoped>\n",
       "    .dataframe tbody tr th:only-of-type {\n",
       "        vertical-align: middle;\n",
       "    }\n",
       "\n",
       "    .dataframe tbody tr th {\n",
       "        vertical-align: top;\n",
       "    }\n",
       "\n",
       "    .dataframe thead th {\n",
       "        text-align: right;\n",
       "    }\n",
       "</style>\n",
       "<table border=\"1\" class=\"dataframe\">\n",
       "  <thead>\n",
       "    <tr style=\"text-align: right;\">\n",
       "      <th></th>\n",
       "      <th>movieId</th>\n",
       "      <th>title</th>\n",
       "      <th>genres</th>\n",
       "    </tr>\n",
       "  </thead>\n",
       "  <tbody>\n",
       "    <tr>\n",
       "      <th>2</th>\n",
       "      <td>2</td>\n",
       "      <td>Grumpier Old Men (1995)</td>\n",
       "      <td>Comedy|Romance</td>\n",
       "    </tr>\n",
       "    <tr>\n",
       "      <th>7</th>\n",
       "      <td>7</td>\n",
       "      <td>Tom and Huck (1995)</td>\n",
       "      <td>Adventure|Children</td>\n",
       "    </tr>\n",
       "    <tr>\n",
       "      <th>19</th>\n",
       "      <td>19</td>\n",
       "      <td>Money Train (1995)</td>\n",
       "      <td>Action|Comedy|Crime|Drama|Thriller</td>\n",
       "    </tr>\n",
       "    <tr>\n",
       "      <th>20</th>\n",
       "      <td>20</td>\n",
       "      <td>Get Shorty (1995)</td>\n",
       "      <td>Comedy|Crime|Thriller</td>\n",
       "    </tr>\n",
       "    <tr>\n",
       "      <th>25</th>\n",
       "      <td>25</td>\n",
       "      <td>Othello (1995)</td>\n",
       "      <td>Drama</td>\n",
       "    </tr>\n",
       "    <tr>\n",
       "      <th>...</th>\n",
       "      <td>...</td>\n",
       "      <td>...</td>\n",
       "      <td>...</td>\n",
       "    </tr>\n",
       "    <tr>\n",
       "      <th>988</th>\n",
       "      <td>988</td>\n",
       "      <td>Koyaanisqatsi (a.k.a. Koyaanisqatsi: Life Out ...</td>\n",
       "      <td>Documentary</td>\n",
       "    </tr>\n",
       "    <tr>\n",
       "      <th>989</th>\n",
       "      <td>989</td>\n",
       "      <td>Some Kind of Wonderful (1987)</td>\n",
       "      <td>Drama|Romance</td>\n",
       "    </tr>\n",
       "    <tr>\n",
       "      <th>990</th>\n",
       "      <td>990</td>\n",
       "      <td>Indiana Jones and the Last Crusade (1989)</td>\n",
       "      <td>Action|Adventure</td>\n",
       "    </tr>\n",
       "    <tr>\n",
       "      <th>991</th>\n",
       "      <td>991</td>\n",
       "      <td>Being There (1979)</td>\n",
       "      <td>Comedy|Drama</td>\n",
       "    </tr>\n",
       "    <tr>\n",
       "      <th>992</th>\n",
       "      <td>992</td>\n",
       "      <td>Gandhi (1982)</td>\n",
       "      <td>Drama</td>\n",
       "    </tr>\n",
       "  </tbody>\n",
       "</table>\n",
       "<p>64 rows × 3 columns</p>\n",
       "</div>"
      ],
      "text/plain": [
       "     movieId                                              title  \\\n",
       "2          2                            Grumpier Old Men (1995)   \n",
       "7          7                                Tom and Huck (1995)   \n",
       "19        19                                 Money Train (1995)   \n",
       "20        20                                  Get Shorty (1995)   \n",
       "25        25                                     Othello (1995)   \n",
       "..       ...                                                ...   \n",
       "988      988  Koyaanisqatsi (a.k.a. Koyaanisqatsi: Life Out ...   \n",
       "989      989                      Some Kind of Wonderful (1987)   \n",
       "990      990          Indiana Jones and the Last Crusade (1989)   \n",
       "991      991                                 Being There (1979)   \n",
       "992      992                                      Gandhi (1982)   \n",
       "\n",
       "                                 genres  \n",
       "2                        Comedy|Romance  \n",
       "7                    Adventure|Children  \n",
       "19   Action|Comedy|Crime|Drama|Thriller  \n",
       "20                Comedy|Crime|Thriller  \n",
       "25                                Drama  \n",
       "..                                  ...  \n",
       "988                         Documentary  \n",
       "989                       Drama|Romance  \n",
       "990                    Action|Adventure  \n",
       "991                        Comedy|Drama  \n",
       "992                               Drama  \n",
       "\n",
       "[64 rows x 3 columns]"
      ]
     },
     "execution_count": 50,
     "metadata": {},
     "output_type": "execute_result"
    }
   ],
   "source": [
    "\n",
    "print('The movies watched by the user whose userId = {} are:'.format(user_id))\n",
    "# select movies whose movieIds are in the watched movie list\n",
    "selected_movies = movies_df[movies_df['movieId'].isin(watched_movies.index)]\n",
    "selected_movies[['movieId', 'title', 'genres']]\n"
   ]
  },
  {
   "attachments": {},
   "cell_type": "markdown",
   "id": "75205c59",
   "metadata": {},
   "source": [
    "Often in online movies platforms such as Netflix and X-box, after watching a certain movie, a user is always recommended some movies to watch. In our recommendation system, we would also like to showcase this idea by making recommendations based on a movie that a certain user just watched. e.g. user 10 just finished watching \"Toy Story (1995)\" what should the top recommedations be?"
   ]
  },
  {
   "cell_type": "code",
   "execution_count": 51,
   "id": "518cea78",
   "metadata": {},
   "outputs": [],
   "source": [
    "def Top_N_recommeded_to_user_by_watched_movie(user_id, watched_movie_title, num_recommendations):\n",
    "    watched_movie_id = movies_df[movies_df['title'] == watched_movie_title]['movieId'].values[0]\n",
    "\n",
    "    # retrieveing the item_factors corresponding to the given movie\n",
    "    watched_movie_factors = item_factors[watched_movie_id]\n",
    "    #compute the similarity between the watched movie and other movies in the dataset.\n",
    "    similarities = item_factors @ watched_movie_factors\n",
    "\n",
    "    #Selecting the row correspinding to the given user\n",
    "    user_m_movies =  Spare_DF.iloc[user_id]\n",
    "    # Movies not watched by the given user\n",
    "    unrated_movies = user_m_movies[user_m_movies==0]\n",
    "    rated_movies = user_m_movies[user_m_movies!=0]\n",
    "\n",
    "    #Getting the top N movies similar to the watched movie\n",
    "    mimilar_movies = similarities[unrated_movies.index] #Getting the ratings of the movies that the user did not watch.\n",
    "    Top_N_similar_movies = mimilar_movies.argsort()[::-1][:num_recommendations]\n",
    "    return Top_N_similar_movies, rated_movies"
   ]
  },
  {
   "cell_type": "code",
   "execution_count": 52,
   "id": "7b4f82e1",
   "metadata": {},
   "outputs": [
    {
     "name": "stdout",
     "output_type": "stream",
     "text": [
      "The top 10 recommended movies for user 16 who watched Toy Story (1995):\n"
     ]
    },
    {
     "data": {
      "text/html": [
       "<div>\n",
       "<style scoped>\n",
       "    .dataframe tbody tr th:only-of-type {\n",
       "        vertical-align: middle;\n",
       "    }\n",
       "\n",
       "    .dataframe tbody tr th {\n",
       "        vertical-align: top;\n",
       "    }\n",
       "\n",
       "    .dataframe thead th {\n",
       "        text-align: right;\n",
       "    }\n",
       "</style>\n",
       "<table border=\"1\" class=\"dataframe\">\n",
       "  <thead>\n",
       "    <tr style=\"text-align: right;\">\n",
       "      <th></th>\n",
       "      <th>movieId</th>\n",
       "      <th>Title</th>\n",
       "      <th>Genres</th>\n",
       "      <th>Average Rating</th>\n",
       "    </tr>\n",
       "  </thead>\n",
       "  <tbody>\n",
       "    <tr>\n",
       "      <th>0</th>\n",
       "      <td>33</td>\n",
       "      <td>Dead Man Walking (1995)</td>\n",
       "      <td>Crime|Drama</td>\n",
       "      <td>3.4</td>\n",
       "    </tr>\n",
       "    <tr>\n",
       "      <th>1</th>\n",
       "      <td>186</td>\n",
       "      <td>Boys on the Side (1995)</td>\n",
       "      <td>Comedy|Drama</td>\n",
       "      <td>3.0</td>\n",
       "    </tr>\n",
       "    <tr>\n",
       "      <th>2</th>\n",
       "      <td>267</td>\n",
       "      <td>Three Colors: Blue (Trois couleurs: Bleu) (1993)</td>\n",
       "      <td>Drama</td>\n",
       "      <td>3.8</td>\n",
       "    </tr>\n",
       "    <tr>\n",
       "      <th>3</th>\n",
       "      <td>275</td>\n",
       "      <td>Stargate (1994)</td>\n",
       "      <td>Action|Adventure|Sci-Fi</td>\n",
       "      <td>2.6</td>\n",
       "    </tr>\n",
       "    <tr>\n",
       "      <th>4</th>\n",
       "      <td>345</td>\n",
       "      <td>Boys Life (1995)</td>\n",
       "      <td>Drama</td>\n",
       "      <td>3.4</td>\n",
       "    </tr>\n",
       "    <tr>\n",
       "      <th>5</th>\n",
       "      <td>405</td>\n",
       "      <td>Live Nude Girls (1995)</td>\n",
       "      <td>Comedy</td>\n",
       "      <td>3.9</td>\n",
       "    </tr>\n",
       "    <tr>\n",
       "      <th>6</th>\n",
       "      <td>448</td>\n",
       "      <td>Radioland Murders (1994)</td>\n",
       "      <td>Comedy|Mystery|Romance</td>\n",
       "      <td>2.0</td>\n",
       "    </tr>\n",
       "    <tr>\n",
       "      <th>7</th>\n",
       "      <td>452</td>\n",
       "      <td>Rising Sun (1993)</td>\n",
       "      <td>Action|Drama|Mystery</td>\n",
       "      <td>3.4</td>\n",
       "    </tr>\n",
       "    <tr>\n",
       "      <th>8</th>\n",
       "      <td>902</td>\n",
       "      <td>Aliens (1986)</td>\n",
       "      <td>Action|Adventure|Horror|Sci-Fi</td>\n",
       "      <td>3.7</td>\n",
       "    </tr>\n",
       "    <tr>\n",
       "      <th>9</th>\n",
       "      <td>972</td>\n",
       "      <td>Down by Law (1986)</td>\n",
       "      <td>Comedy|Drama|Film-Noir</td>\n",
       "      <td>3.2</td>\n",
       "    </tr>\n",
       "  </tbody>\n",
       "</table>\n",
       "</div>"
      ],
      "text/plain": [
       "   movieId                                             Title  \\\n",
       "0       33                           Dead Man Walking (1995)   \n",
       "1      186                           Boys on the Side (1995)   \n",
       "2      267  Three Colors: Blue (Trois couleurs: Bleu) (1993)   \n",
       "3      275                                   Stargate (1994)   \n",
       "4      345                                  Boys Life (1995)   \n",
       "5      405                            Live Nude Girls (1995)   \n",
       "6      448                          Radioland Murders (1994)   \n",
       "7      452                                 Rising Sun (1993)   \n",
       "8      902                                     Aliens (1986)   \n",
       "9      972                                Down by Law (1986)   \n",
       "\n",
       "                           Genres  Average Rating  \n",
       "0                     Crime|Drama             3.4  \n",
       "1                    Comedy|Drama             3.0  \n",
       "2                           Drama             3.8  \n",
       "3         Action|Adventure|Sci-Fi             2.6  \n",
       "4                           Drama             3.4  \n",
       "5                          Comedy             3.9  \n",
       "6          Comedy|Mystery|Romance             2.0  \n",
       "7            Action|Drama|Mystery             3.4  \n",
       "8  Action|Adventure|Horror|Sci-Fi             3.7  \n",
       "9          Comedy|Drama|Film-Noir             3.2  "
      ]
     },
     "execution_count": 52,
     "metadata": {},
     "output_type": "execute_result"
    }
   ],
   "source": [
    "user_id = 16\n",
    "num_recommendations = 10\n",
    "watched_movie = \"Toy Story (1995)\"\n",
    "Top_N_similar_movies, watched_movies = Top_N_recommeded_to_user_by_watched_movie(user_id, watched_movie, num_recommendations)\n",
    "\n",
    "recommended_movie_titles = movies_df.loc[movies_df['movieId'].isin(Top_N_similar_movies)]['title'].tolist()\n",
    "titles, Genres, average_rating, mIds = [], [], [], []\n",
    "for title in recommended_movie_titles:\n",
    "    movie_id = movies_df[movies_df['title']==title]['movieId'].values[0]\n",
    "    avrg_rating = round(Spare_DF[movie_id].sum()/np.count_nonzero(Spare_DF[movie_id]),1)\n",
    "    genre = movies_df[movies_df['title']==title]['genres'].values[0]\n",
    "    titles.append(title), Genres.append(genre), average_rating.append(avrg_rating), mIds.append(movie_id)\n",
    "  \n",
    "Recommendations = pd.DataFrame({'movieId':mIds, 'Title': titles, 'Genres': Genres, 'Average Rating': average_rating})\n",
    "print('The top 10 recommended movies for user {} who watched {}:'.format(user_id, watched_movie))\n",
    "Recommendations"
   ]
  },
  {
   "cell_type": "code",
   "execution_count": 53,
   "id": "1f1e0d97",
   "metadata": {},
   "outputs": [
    {
     "name": "stdout",
     "output_type": "stream",
     "text": [
      "The movies watched by the user whose userId = 16 are:\n"
     ]
    },
    {
     "data": {
      "text/html": [
       "<div>\n",
       "<style scoped>\n",
       "    .dataframe tbody tr th:only-of-type {\n",
       "        vertical-align: middle;\n",
       "    }\n",
       "\n",
       "    .dataframe tbody tr th {\n",
       "        vertical-align: top;\n",
       "    }\n",
       "\n",
       "    .dataframe thead th {\n",
       "        text-align: right;\n",
       "    }\n",
       "</style>\n",
       "<table border=\"1\" class=\"dataframe\">\n",
       "  <thead>\n",
       "    <tr style=\"text-align: right;\">\n",
       "      <th></th>\n",
       "      <th>movieId</th>\n",
       "      <th>title</th>\n",
       "      <th>genres</th>\n",
       "    </tr>\n",
       "  </thead>\n",
       "  <tbody>\n",
       "    <tr>\n",
       "      <th>0</th>\n",
       "      <td>0</td>\n",
       "      <td>Toy Story (1995)</td>\n",
       "      <td>Adventure|Animation|Children|Comedy|Fantasy</td>\n",
       "    </tr>\n",
       "    <tr>\n",
       "      <th>3</th>\n",
       "      <td>3</td>\n",
       "      <td>Waiting to Exhale (1995)</td>\n",
       "      <td>Comedy|Drama|Romance</td>\n",
       "    </tr>\n",
       "    <tr>\n",
       "      <th>4</th>\n",
       "      <td>4</td>\n",
       "      <td>Father of the Bride Part II (1995)</td>\n",
       "      <td>Comedy</td>\n",
       "    </tr>\n",
       "    <tr>\n",
       "      <th>7</th>\n",
       "      <td>7</td>\n",
       "      <td>Tom and Huck (1995)</td>\n",
       "      <td>Adventure|Children</td>\n",
       "    </tr>\n",
       "    <tr>\n",
       "      <th>15</th>\n",
       "      <td>15</td>\n",
       "      <td>Casino (1995)</td>\n",
       "      <td>Crime|Drama</td>\n",
       "    </tr>\n",
       "    <tr>\n",
       "      <th>...</th>\n",
       "      <td>...</td>\n",
       "      <td>...</td>\n",
       "      <td>...</td>\n",
       "    </tr>\n",
       "    <tr>\n",
       "      <th>1150</th>\n",
       "      <td>1150</td>\n",
       "      <td>Romy and Michele's High School Reunion (1997)</td>\n",
       "      <td>Comedy</td>\n",
       "    </tr>\n",
       "    <tr>\n",
       "      <th>1151</th>\n",
       "      <td>1151</td>\n",
       "      <td>Temptress Moon (Feng Yue) (1996)</td>\n",
       "      <td>Romance</td>\n",
       "    </tr>\n",
       "    <tr>\n",
       "      <th>1152</th>\n",
       "      <td>1152</td>\n",
       "      <td>Volcano (1997)</td>\n",
       "      <td>Action|Drama|Thriller</td>\n",
       "    </tr>\n",
       "    <tr>\n",
       "      <th>1153</th>\n",
       "      <td>1153</td>\n",
       "      <td>Children of the Revolution (1996)</td>\n",
       "      <td>Comedy</td>\n",
       "    </tr>\n",
       "    <tr>\n",
       "      <th>1154</th>\n",
       "      <td>1154</td>\n",
       "      <td>Austin Powers: International Man of Mystery (1...</td>\n",
       "      <td>Action|Adventure|Comedy</td>\n",
       "    </tr>\n",
       "  </tbody>\n",
       "</table>\n",
       "<p>105 rows × 3 columns</p>\n",
       "</div>"
      ],
      "text/plain": [
       "      movieId                                              title  \\\n",
       "0           0                                   Toy Story (1995)   \n",
       "3           3                           Waiting to Exhale (1995)   \n",
       "4           4                 Father of the Bride Part II (1995)   \n",
       "7           7                                Tom and Huck (1995)   \n",
       "15         15                                      Casino (1995)   \n",
       "...       ...                                                ...   \n",
       "1150     1150      Romy and Michele's High School Reunion (1997)   \n",
       "1151     1151                   Temptress Moon (Feng Yue) (1996)   \n",
       "1152     1152                                     Volcano (1997)   \n",
       "1153     1153                  Children of the Revolution (1996)   \n",
       "1154     1154  Austin Powers: International Man of Mystery (1...   \n",
       "\n",
       "                                           genres  \n",
       "0     Adventure|Animation|Children|Comedy|Fantasy  \n",
       "3                            Comedy|Drama|Romance  \n",
       "4                                          Comedy  \n",
       "7                              Adventure|Children  \n",
       "15                                    Crime|Drama  \n",
       "...                                           ...  \n",
       "1150                                       Comedy  \n",
       "1151                                      Romance  \n",
       "1152                        Action|Drama|Thriller  \n",
       "1153                                       Comedy  \n",
       "1154                      Action|Adventure|Comedy  \n",
       "\n",
       "[105 rows x 3 columns]"
      ]
     },
     "execution_count": 53,
     "metadata": {},
     "output_type": "execute_result"
    }
   ],
   "source": [
    "print('The movies watched by the user whose userId = {} are:'.format(user_id))\n",
    "# select movies whose movieIds are in the watched movie list\n",
    "selected_movies = movies_df[movies_df['movieId'].isin(watched_movies.index)]\n",
    "selected_movies[['movieId', 'title', 'genres']]"
   ]
  },
  {
   "cell_type": "code",
   "execution_count": 55,
   "id": "be79244b",
   "metadata": {},
   "outputs": [],
   "source": [
    "#Reduce the movies_df so that it only contain movie_ids in the rating.csv file.\n",
    "movies_df1 = movies_df.head(item_factors.shape[0])"
   ]
  },
  {
   "cell_type": "code",
   "execution_count": 56,
   "id": "34023415",
   "metadata": {},
   "outputs": [
    {
     "name": "stdout",
     "output_type": "stream",
     "text": [
      "Jumanji (1995)\n",
      "The top 10 recommended movies for user 16 who watched Toy Story (1995):\n"
     ]
    },
    {
     "data": {
      "text/html": [
       "<div>\n",
       "<style scoped>\n",
       "    .dataframe tbody tr th:only-of-type {\n",
       "        vertical-align: middle;\n",
       "    }\n",
       "\n",
       "    .dataframe tbody tr th {\n",
       "        vertical-align: top;\n",
       "    }\n",
       "\n",
       "    .dataframe thead th {\n",
       "        text-align: right;\n",
       "    }\n",
       "</style>\n",
       "<table border=\"1\" class=\"dataframe\">\n",
       "  <thead>\n",
       "    <tr style=\"text-align: right;\">\n",
       "      <th></th>\n",
       "      <th>movieId</th>\n",
       "      <th>Title</th>\n",
       "      <th>Genres</th>\n",
       "      <th>Average Rating</th>\n",
       "    </tr>\n",
       "  </thead>\n",
       "  <tbody>\n",
       "    <tr>\n",
       "      <th>0</th>\n",
       "      <td>14</td>\n",
       "      <td>Cutthroat Island (1995)</td>\n",
       "      <td>Action|Adventure|Romance</td>\n",
       "      <td>3.7</td>\n",
       "    </tr>\n",
       "    <tr>\n",
       "      <th>1</th>\n",
       "      <td>53</td>\n",
       "      <td>Indian in the Cupboard, The (1995)</td>\n",
       "      <td>Adventure|Children|Fantasy</td>\n",
       "      <td>3.4</td>\n",
       "    </tr>\n",
       "    <tr>\n",
       "      <th>2</th>\n",
       "      <td>77</td>\n",
       "      <td>White Squall (1996)</td>\n",
       "      <td>Action|Adventure|Drama</td>\n",
       "      <td>3.8</td>\n",
       "    </tr>\n",
       "    <tr>\n",
       "      <th>3</th>\n",
       "      <td>126</td>\n",
       "      <td>Batman Forever (1995)</td>\n",
       "      <td>Action|Adventure|Comedy|Crime</td>\n",
       "      <td>3.4</td>\n",
       "    </tr>\n",
       "    <tr>\n",
       "      <th>4</th>\n",
       "      <td>322</td>\n",
       "      <td>Lion King, The (1994)</td>\n",
       "      <td>Adventure|Animation|Children|Drama|Musical|IMAX</td>\n",
       "      <td>3.8</td>\n",
       "    </tr>\n",
       "    <tr>\n",
       "      <th>5</th>\n",
       "      <td>365</td>\n",
       "      <td>Black Beauty (1994)</td>\n",
       "      <td>Adventure|Children|Drama</td>\n",
       "      <td>3.8</td>\n",
       "    </tr>\n",
       "    <tr>\n",
       "      <th>6</th>\n",
       "      <td>431</td>\n",
       "      <td>Executive Decision (1996)</td>\n",
       "      <td>Action|Adventure|Thriller</td>\n",
       "      <td>3.8</td>\n",
       "    </tr>\n",
       "    <tr>\n",
       "      <th>7</th>\n",
       "      <td>505</td>\n",
       "      <td>Ghost (1990)</td>\n",
       "      <td>Comedy|Drama|Fantasy|Romance|Thriller</td>\n",
       "      <td>2.5</td>\n",
       "    </tr>\n",
       "    <tr>\n",
       "      <th>8</th>\n",
       "      <td>549</td>\n",
       "      <td>Dragonheart (1996)</td>\n",
       "      <td>Action|Adventure|Fantasy</td>\n",
       "      <td>2.9</td>\n",
       "    </tr>\n",
       "    <tr>\n",
       "      <th>9</th>\n",
       "      <td>594</td>\n",
       "      <td>Twister (1996)</td>\n",
       "      <td>Action|Adventure|Romance|Thriller</td>\n",
       "      <td>3.3</td>\n",
       "    </tr>\n",
       "  </tbody>\n",
       "</table>\n",
       "</div>"
      ],
      "text/plain": [
       "   movieId                               Title  \\\n",
       "0       14             Cutthroat Island (1995)   \n",
       "1       53  Indian in the Cupboard, The (1995)   \n",
       "2       77                 White Squall (1996)   \n",
       "3      126               Batman Forever (1995)   \n",
       "4      322               Lion King, The (1994)   \n",
       "5      365                 Black Beauty (1994)   \n",
       "6      431           Executive Decision (1996)   \n",
       "7      505                        Ghost (1990)   \n",
       "8      549                  Dragonheart (1996)   \n",
       "9      594                      Twister (1996)   \n",
       "\n",
       "                                            Genres  Average Rating  \n",
       "0                         Action|Adventure|Romance             3.7  \n",
       "1                       Adventure|Children|Fantasy             3.4  \n",
       "2                           Action|Adventure|Drama             3.8  \n",
       "3                    Action|Adventure|Comedy|Crime             3.4  \n",
       "4  Adventure|Animation|Children|Drama|Musical|IMAX             3.8  \n",
       "5                         Adventure|Children|Drama             3.8  \n",
       "6                        Action|Adventure|Thriller             3.8  \n",
       "7            Comedy|Drama|Fantasy|Romance|Thriller             2.5  \n",
       "8                         Action|Adventure|Fantasy             2.9  \n",
       "9                Action|Adventure|Romance|Thriller             3.3  "
      ]
     },
     "execution_count": 56,
     "metadata": {},
     "output_type": "execute_result"
    }
   ],
   "source": [
    "# Define the watched movie_id\n",
    "watched_movie_id = 1\n",
    "watched_movie_name =  movies_df1.loc[watched_movie_id]['title']\n",
    "print(watched_movie_name)\n",
    "def top_similar_movies(watched_movie_id):\n",
    "    # Get the genre of the watched movie\n",
    "    watched_movie_genres = movies_df1.loc[movies_df1['movieId'] == watched_movie_id]['genres'].values[0]\n",
    "\n",
    "    # Find all movies with the same genre as the watched movie\n",
    "    genre_movies = movies_df1[movies_df1['genres'].str.contains(watched_movie_genres)]\n",
    "    #genre_movies = genre_movies.head(1972)\n",
    "\n",
    "    # Compute the similarity scores between the watched movie and all other movies with the same genre\n",
    "    watched_movie_features = item_factors[watched_movie_id]\n",
    "    genre_movie_features = item_factors[genre_movies['movieId'].values]\n",
    "    similarity_scores = cosine_similarity(watched_movie_features.reshape(1,-1), genre_movie_features)\n",
    "\n",
    "    # Sort the movies by similarity score in descending order\n",
    "    similar_movies_indices = np.argsort(similarity_scores, axis=1)[0][::-1]\n",
    "\n",
    "    # Choose the top 10 movies with the highest similarity score\n",
    "    top_similar_movies_indices = similar_movies_indices[1:11]\n",
    "    top_similar_movie_ids = genre_movies.iloc[top_similar_movies_indices]['movieId'].values\n",
    "\n",
    "    top_similar_movie_titles = movies_df1.loc[movies_df1['movieId'].isin(top_similar_movie_ids)]['title'].tolist()\n",
    "\n",
    "    return top_similar_movie_titles\n",
    "\n",
    "# Print the top 10 similar movies\n",
    "\n",
    "\n",
    "Top_N_similar_movies, watched_movies = Top_N_recommeded_to_user_by_watched_movie(user_id, watched_movie, num_recommendations)\n",
    "\n",
    "# Print the top 10 similar movies\n",
    "recommended_movie_titles = top_similar_movies(watched_movie_id)\n",
    "#recommended_movie_titles = movies_df.loc[movies_df['movieId'].isin(Top_N_similar_movies)]['title'].tolist()\n",
    "titles, Genres, average_rating, mIds = [], [], [], []\n",
    "for title in recommended_movie_titles:\n",
    "    movie_id = movies_df[movies_df['title']==title]['movieId'].values[0]\n",
    "    avrg_rating = round(Spare_DF[movie_id].sum()/np.count_nonzero(Spare_DF[movie_id]),1)\n",
    "    genre = movies_df[movies_df['title']==title]['genres'].values[0]\n",
    "    titles.append(title), Genres.append(genre), average_rating.append(avrg_rating), mIds.append(movie_id)\n",
    "\n",
    "Recommendations = pd.DataFrame({'movieId':mIds, 'Title': titles, 'Genres': Genres, 'Average Rating': average_rating})\n",
    "print('The top 10 recommended movies for user {} who watched {}:'.format(user_id, watched_movie))\n",
    "Recommendations"
   ]
  },
  {
   "cell_type": "code",
   "execution_count": 59,
   "id": "32beab1f",
   "metadata": {},
   "outputs": [
    {
     "name": "stdout",
     "output_type": "stream",
     "text": [
      "The top 10 recommended movies for the user who watched Lord of the Rings: The Fellowship of the Ring, The (2001) are:\n"
     ]
    },
    {
     "data": {
      "text/html": [
       "<div>\n",
       "<style scoped>\n",
       "    .dataframe tbody tr th:only-of-type {\n",
       "        vertical-align: middle;\n",
       "    }\n",
       "\n",
       "    .dataframe tbody tr th {\n",
       "        vertical-align: top;\n",
       "    }\n",
       "\n",
       "    .dataframe thead th {\n",
       "        text-align: right;\n",
       "    }\n",
       "</style>\n",
       "<table border=\"1\" class=\"dataframe\">\n",
       "  <thead>\n",
       "    <tr style=\"text-align: right;\">\n",
       "      <th></th>\n",
       "      <th>Title</th>\n",
       "      <th>Genres</th>\n",
       "    </tr>\n",
       "  </thead>\n",
       "  <tbody>\n",
       "    <tr>\n",
       "      <th>0</th>\n",
       "      <td>Tom and Huck (1995)</td>\n",
       "      <td>Adventure|Children</td>\n",
       "    </tr>\n",
       "    <tr>\n",
       "      <th>1</th>\n",
       "      <td>Dracula: Dead and Loving It (1995)</td>\n",
       "      <td>Comedy|Horror</td>\n",
       "    </tr>\n",
       "    <tr>\n",
       "      <th>2</th>\n",
       "      <td>Sudden Death (1995)</td>\n",
       "      <td>Action</td>\n",
       "    </tr>\n",
       "    <tr>\n",
       "      <th>3</th>\n",
       "      <td>Casino (1995)</td>\n",
       "      <td>Crime|Drama</td>\n",
       "    </tr>\n",
       "    <tr>\n",
       "      <th>4</th>\n",
       "      <td>Toy Story (1995)</td>\n",
       "      <td>Adventure|Animation|Children|Comedy|Fantasy</td>\n",
       "    </tr>\n",
       "    <tr>\n",
       "      <th>5</th>\n",
       "      <td>Grumpier Old Men (1995)</td>\n",
       "      <td>Comedy|Romance</td>\n",
       "    </tr>\n",
       "    <tr>\n",
       "      <th>6</th>\n",
       "      <td>GoldenEye (1995)</td>\n",
       "      <td>Action|Adventure|Thriller</td>\n",
       "    </tr>\n",
       "    <tr>\n",
       "      <th>7</th>\n",
       "      <td>American President, The (1995)</td>\n",
       "      <td>Comedy|Drama|Romance</td>\n",
       "    </tr>\n",
       "    <tr>\n",
       "      <th>8</th>\n",
       "      <td>Jumanji (1995)</td>\n",
       "      <td>Adventure|Children|Fantasy</td>\n",
       "    </tr>\n",
       "    <tr>\n",
       "      <th>9</th>\n",
       "      <td>Waiting to Exhale (1995)</td>\n",
       "      <td>Comedy|Drama|Romance</td>\n",
       "    </tr>\n",
       "  </tbody>\n",
       "</table>\n",
       "</div>"
      ],
      "text/plain": [
       "                                Title  \\\n",
       "0                 Tom and Huck (1995)   \n",
       "1  Dracula: Dead and Loving It (1995)   \n",
       "2                 Sudden Death (1995)   \n",
       "3                       Casino (1995)   \n",
       "4                    Toy Story (1995)   \n",
       "5             Grumpier Old Men (1995)   \n",
       "6                    GoldenEye (1995)   \n",
       "7      American President, The (1995)   \n",
       "8                      Jumanji (1995)   \n",
       "9            Waiting to Exhale (1995)   \n",
       "\n",
       "                                        Genres  \n",
       "0                           Adventure|Children  \n",
       "1                                Comedy|Horror  \n",
       "2                                       Action  \n",
       "3                                  Crime|Drama  \n",
       "4  Adventure|Animation|Children|Comedy|Fantasy  \n",
       "5                               Comedy|Romance  \n",
       "6                    Action|Adventure|Thriller  \n",
       "7                         Comedy|Drama|Romance  \n",
       "8                   Adventure|Children|Fantasy  \n",
       "9                         Comedy|Drama|Romance  "
      ]
     },
     "execution_count": 59,
     "metadata": {},
     "output_type": "execute_result"
    }
   ],
   "source": [
    "# Create a dictionary mapping movie titles to movie IDs\n",
    "id2title = dict(zip(movies_df1['movieId'], movies_df1['title']))\n",
    "\n",
    "# Create a dictionary mapping movie IDs to movie titles\n",
    "title2id = dict(zip(movies_df1['title'], movies_df1['movieId']))\n",
    "\n",
    "movie_title = 'Lord of the Rings: The Fellowship of the Ring, The (2001)'\n",
    "num_movies = 10\n",
    "\n",
    "# Create a dummy user that gave \"The Lord of the Rings: The Fellowship of the Ring\" movie five stars\n",
    "dummy_user = np.zeros(len(movies_df1))\n",
    "dummy_user_id = title2id[movie_title]\n",
    "dummy_user[dummy_user_id] = 5\n",
    "\n",
    "# Get the latent factor for the \"The Lord of the Rings: The Fellowship of the Ring\" movie\n",
    "movie_id = title2id[movie_title]\n",
    "movie_factor = item_factors[movie_id]\n",
    "\n",
    "# Compute the similarity between the \"The Lord of the Rings: The Fellowship of the Ring\" movie and all other movies\n",
    "similarities = np.dot(dummy_user,item_factors)\n",
    "\n",
    "# Get the top 10 most similar movies\n",
    "top_10_similar_movies_indices = similarities.argsort()[::-1][:num_movies]\n",
    "top_10_similar_movies = [id2title[i] for i in top_10_similar_movies_indices]\n",
    "\n",
    "#Print the top 10 most similar movies\n",
    "print(\"The top {} recommended movies for the user who watched {} are:\".format(num_movies, movie_title))\n",
    "top_10_similar_movies\n",
    "Genres =  []\n",
    "for movie in top_10_similar_movies:\n",
    "    genre = movies_df[movies_df['title']==movie]['genres'].values[0]\n",
    "    Genres.append(genre)\n",
    "\n",
    "Recommendations = pd.DataFrame({'Title': top_10_similar_movies, 'Genres': Genres})\n",
    "Recommendations"
   ]
  },
  {
   "cell_type": "code",
   "execution_count": 60,
   "id": "3d11903f",
   "metadata": {},
   "outputs": [],
   "source": [
    "# Extract the genres for the watched movie\n",
    "movie_genre = movies_df[movies_df['title'] == 'Lord of the Rings: The Fellowship of the Ring, The (2001)']['genres'].values[0]"
   ]
  },
  {
   "cell_type": "code",
   "execution_count": 61,
   "id": "b6cd0a6a",
   "metadata": {},
   "outputs": [
    {
     "name": "stdout",
     "output_type": "stream",
     "text": [
      "The top 10 recommended movies for the user who watched Lord of the Rings: The Fellowship of the Ring, The (2001) are:\n",
      "\n",
      "Tom and Huck (1995)\n",
      "Dracula: Dead and Loving It (1995)\n",
      "Sudden Death (1995)\n",
      "Casino (1995)\n",
      "Toy Story (1995)\n",
      "Grumpier Old Men (1995)\n",
      "GoldenEye (1995)\n",
      "American President, The (1995)\n",
      "Jumanji (1995)\n",
      "Waiting to Exhale (1995)\n"
     ]
    }
   ],
   "source": [
    "# Create a dictionary mapping movie titles to movie IDs\n",
    "id2title = dict(zip(movies_df1['movieId'], movies_df1['title']))\n",
    "\n",
    "# Create a dictionary mapping movie IDs to movie titles\n",
    "title2id = dict(zip(movies_df1['title'], movies_df1['movieId']))\n",
    "\n",
    "movie_title = 'Lord of the Rings: The Fellowship of the Ring, The (2001)'\n",
    "num_movies = 10\n",
    "\n",
    "# Create a dummy user that gave \"The Lord of the Rings: The Fellowship of the Ring\" movie five stars\n",
    "dummy_user = np.zeros(len(movies_df1))\n",
    "dummy_user[title2id[movie_title]] = 5\n",
    "\n",
    "# Get the latent factor for the \"The Lord of the Rings: The Fellowship of the Ring\" movie\n",
    "movie_id = title2id[movie_title]\n",
    "movie_factor = item_factors[movie_id]\n",
    "\n",
    "# Extract the genres for the watched movie\n",
    "LoR_genre = movies_df1[movies_df1['title'] == movie_title]['genres'].values[0]\n",
    "\n",
    "# Filter the dataset to only include movies with the same genre as the Lord of the Rings: The Fellowship of the Ring, The (2001)\n",
    "similar_movies = list(movies_df1[movies_df1['genres'] == LoR_genre]['movieId'])\n",
    "\n",
    "# Compute the similarity between the \"The Lord of the Rings: The Fellowship of the Ring\" movie and all other movies\n",
    "similarities = np.dot(dummy_user, item_factors)\n",
    "\n",
    "# #Extract factors for movies with the same genre as \"The Lord of the Rings: The Fellowship of the Ring\" movie and all other movies\"\n",
    "# very_similar_movies = item_factors[similar_movies]\n",
    "\n",
    "# Get the top 10 most similar movies\n",
    "top_10_similar_movies_indices = similarities.argsort()[::-1][:num_movies]\n",
    "top_10_similar_movies = [id2title[i] for i in top_10_similar_movies_indices]\n",
    "\n",
    "#Print the top 10 most similar movies\n",
    "print(\"The top {} recommended movies for the user who watched {} are:\\n\".format(num_movies, movie_title))\n",
    "print(\"\\n\".join(top_10_similar_movies))"
   ]
  },
  {
   "attachments": {},
   "cell_type": "markdown",
   "id": "af5086b8",
   "metadata": {},
   "source": [
    "### ALS using genre metadata\n",
    "\n",
    "When applied to the MovieLens genres metadata, ALS can be used to identify latent factors that underlie the preferences of users for certain movie genres. ALS can effectively predict a user's preference for a particular genre based on their past ratings and the ratings of other users with similar preferences. This information can then be used to generate personalized movie recommendations that are tailored to each user's individual taste."
   ]
  },
  {
   "cell_type": "code",
   "execution_count": 110,
   "id": "8431cb60",
   "metadata": {},
   "outputs": [],
   "source": [
    "# Extract the movie genres\n",
    "genres = movies_df[\"genres\"].str.split(\"|\")\n",
    "\n",
    "# Get a list of all unique genres\n",
    "unique_genres = set([genre for movie_genres in genres for genre in movie_genres])"
   ]
  },
  {
   "cell_type": "code",
   "execution_count": 111,
   "id": "4cab435a",
   "metadata": {},
   "outputs": [],
   "source": [
    "\n",
    "# Encode the movie genres as binary variables using one-hot encoding\n",
    "movie_genres = []\n",
    "for genres in movies_df['genres']:\n",
    "    one_hot = np.zeros(len(genre_labels))\n",
    "    for genre in genres.split('|'):\n",
    "        \n",
    "        one_hot[genre_labels.index(genre)] = 1\n",
    "    movie_genres.append(one_hot)\n",
    "\n",
    "movie_genres = np.array(movie_genres)"
   ]
  },
  {
   "cell_type": "code",
   "execution_count": 112,
   "id": "3544317f",
   "metadata": {},
   "outputs": [
    {
     "data": {
      "text/plain": [
       "array([[0., 0., 0., ..., 1., 0., 1.],\n",
       "       [0., 0., 0., ..., 0., 0., 1.],\n",
       "       [0., 0., 0., ..., 1., 1., 0.],\n",
       "       ...,\n",
       "       [1., 0., 0., ..., 0., 0., 0.],\n",
       "       [0., 0., 0., ..., 0., 0., 0.],\n",
       "       [0., 0., 0., ..., 1., 0., 0.]])"
      ]
     },
     "execution_count": 112,
     "metadata": {},
     "output_type": "execute_result"
    }
   ],
   "source": [
    "#one hot encoding of the genres\n",
    "movie_genres"
   ]
  },
  {
   "cell_type": "code",
   "execution_count": 113,
   "id": "43c05654",
   "metadata": {},
   "outputs": [],
   "source": [
    "# Initialize user and item bias to zero\n",
    "user_bias = np.zeros(M) \n",
    "item_bias = np.zeros(N) \n",
    "\n",
    "# Defining the regularization parameters\n",
    "alpha = 0.01 # regularization parameter for user and item baises\n",
    "lamda = 0.3 # regularization parameter\n",
    "tau = 0.01 # regularization parameter for user and item factors\n",
    "beta = 0.001 # regularization parameter for item feature vectors\n",
    "\n",
    "N_iterations  = 45\n",
    "\n",
    "# Define number of latent dimensions and number of iterations\n",
    "K = 20\n",
    "\n",
    "# Number of genres\n",
    "num_genre =  len(unique_genres)  # number of unique genres\n",
    "\n",
    "iter_count = 0\n",
    "# Initialize user and item latent factor matrices to small random values\n",
    "mu,sigma = 0, 2.5/np.sqrt(K) #mean rating and standard deviation \n",
    "user_factors = np.random.normal(mu, sigma, (M, K)) \n",
    "item_factors = np.random.normal(mu, sigma, (N, K))\n",
    "item_features = np.random.normal(mu, sigma, (N, num_genre))\n",
    "\n",
    "np.random.seed(10)\n",
    "\n",
    "def loss_function():\n",
    "    # Calculate predicted ratings\n",
    "    predicted_ratings = np.dot(user_factors, item_factors.T)+ user_bias[:, np.newaxis]+item_bias[np.newaxis, :]\n",
    "    error = Ratings['rating'].values - predicted_ratings[Ratings['userId'].values, Ratings['movieId'].values]\n",
    "    # # Calculate total loss\n",
    "    # loss = -0.5*lamda*np.sum(error**2) - 0.5*alpha * np.sum(user_bias**2) -0.5*alpha * np.sum(item_bias**2) \\\n",
    "    #        -0.5*tau*np.sum(user_factors ** 2) - 0.5*tau*np.sum(item_factors ** 2)\n",
    "\n",
    "    # Calculating the RMSE\n",
    "    rmse = np.sqrt(np.sum(error**2)/len(Ratings['rating']))\n",
    "    \n",
    "    return rmse\n",
    "\n",
    "# The update function remains the same.\n",
    "def update_item(n):\n",
    "    # select users who watched and rated movie n\n",
    "    n_users_n_ratings =  M_users_ratings[movie_strtsIdx[n]:movie_endsIdx[n]+1] \n",
    "\n",
    "    #update item biases\n",
    "    numerator = 0\n",
    "    denominator = alpha\n",
    "    for m,r in n_users_n_ratings:\n",
    "        numerator += lamda*(r - np.dot(user_factors[int(m)],  item_factors[n])- user_bias[int(m)]) \n",
    "        denominator += lamda\n",
    "    item_bias[n] = numerator / denominator #update item n's bias\n",
    "\n",
    "    # update item latent vectors/factors\n",
    "    numerator = np.zeros(K)\n",
    "    denominator = tau*np.eye(K)\n",
    "    for m,r in n_users_n_ratings:\n",
    "        numerator += lamda*(r - user_bias[int(m)]-item_bias[n])*user_factors[int(m)]\n",
    "        denominator += lamda*np.outer(user_factors[int(m)], user_factors[int(m)])\n",
    "    item_factors[n] = np.linalg.solve(denominator, numerator) # update item n's latent factor/vector\n",
    "    return item_bias, item_factors\n",
    "\n",
    "\n",
    "# Fix user biases and latent factors/vectors and update the item biases and latent factors/vectors\n",
    "#function  for item updates\n",
    "def update_item(n):\n",
    "    for n in range(N):\n",
    "         # select users who watched and rated movie n\n",
    "        n_users_n_ratings =  M_users_ratings[movie_strtsIdx[n]:movie_endsIdx[n]+1] \n",
    "\n",
    "        #update item biases\n",
    "        numerator = 0\n",
    "        denominator = alpha\n",
    "        for m,r in n_users_n_ratings:\n",
    "            numerator += lamda*(r - np.dot(user_factors[int(m)],  item_factors[n])- user_bias[int(m)]) \n",
    "            denominator += lamda\n",
    "        item_bias[n] = numerator / denominator #update item n's bias\n",
    "\n",
    "        #get the sum of all features f_i associated with movie n\n",
    "        sum_f_i = np.dot(item_features[n] , movie_genres[n])\n",
    "        f_n = np.sum(movie_genres[n]) # Number of of features associated with movie n.\n",
    "        numerator_0 =  (tau/np.sqrt(f_n))*sum_f_i\n",
    "\n",
    "        # update item latent vectors/factors\n",
    "        numerator = np.zeros(K)\n",
    "        denominator = tau*np.eye(K)\n",
    "        for m,r in n_users_n_ratings:\n",
    "            numerator += lamda*(r - user_bias[int(m)]-item_bias[n])*user_factors[int(m)]\n",
    "            denominator += lamda*np.outer(user_factors[int(m)], user_factors[int(m)])\n",
    "        item_factors[n] = np.linalg.solve(denominator, numerator+numerator_0) # update item n's latent factor/vector\n",
    "\n",
    "        return item_bias, item_factors"
   ]
  },
  {
   "cell_type": "code",
   "execution_count": 114,
   "id": "dc588269",
   "metadata": {},
   "outputs": [],
   "source": [
    "def update_genre(g):\n",
    "    for g in range(num_genre):\n",
    "        # Computing the number of genre for all N movies in an array of size N by 1 \n",
    "        N_genres = movie_genres.sum(axis = 1)\n",
    "\n",
    "        # Computing the number of movies per genre\n",
    "        num_m_per_genre = movie_genres.sum(axis = 0)\n",
    "\n",
    "        # Sum of all feature corresponding to movie n except feature vecto i\n",
    "        sum_all_except_i= np.sum(item_features[:, np.arange(num_genre) !=i], axis=1)\n",
    "\n",
    "        # Make every entry to me 1/sqrt(genres per movie)\n",
    "        Squared_F = 1/np.sqrt(movie_genres.sum(axis=1))  # reshape to (num_movies, 1)\n",
    "        prod = np.zeros(N)\n",
    "        Diff =  np.zeros((N,num_genre))\n",
    "        for num in range(N):\n",
    "            prod[num] = Squared_F[num]*sum_all_except_i[num]\n",
    "            Diff[num] = item_factors[num]-prod[num]\n",
    "        sum_N = Diff.sum()\n",
    "\n",
    "        #update feature_vector i\n",
    "        Z_i  = num_m_per_genre[i]\n",
    "        item_features[i] =  ((tau*np.sqrt(Z_i))/(tau*N+beta*Z_i))\n",
    "\n",
    "    return item_features"
   ]
  },
  {
   "cell_type": "code",
   "execution_count": 115,
   "id": "c30538f6",
   "metadata": {},
   "outputs": [
    {
     "name": "stdout",
     "output_type": "stream",
     "text": [
      "0.8779631217185216\n",
      "0.8736290501084272\n",
      "0.8732064225758933\n",
      "0.8730426973750521\n",
      "0.8729464062452318\n",
      "0.872880684590633\n",
      "0.8728327353954184\n",
      "0.8727960036364609\n",
      "0.872767145437311\n",
      "0.8727440959936102\n",
      "0.872725404739387\n",
      "0.872710020421338\n",
      "0.8726971789759163\n",
      "0.8726863223915746\n",
      "0.872677038757527\n",
      "0.8726690196890179\n",
      "0.8726620308053274\n",
      "0.8726558913461047\n",
      "0.8726504599855106\n",
      "0.8726456248247014\n",
      "0.8726412962241596\n",
      "0.8726374015941171\n",
      "0.8726338815568114\n",
      "0.8726306870845763\n",
      "0.8726277773415841\n",
      "0.8726251180391242\n",
      "0.8726226801697036\n",
      "0.8726204390233707\n",
      "0.872618373416248\n",
      "0.8726164650800643\n",
      "0.872614698174909\n",
      "0.8726130588971048\n",
      "0.8726115351611369\n",
      "0.8726101163397175\n",
      "0.8726087930498653\n",
      "0.8726075569756924\n",
      "0.8726064007206986\n",
      "0.8726053176839582\n",
      "0.8726043019557858\n",
      "0.8726033482293851\n",
      "0.8726024517256931\n",
      "0.8726016081291771\n",
      "0.8726008135327749\n",
      "0.8726000643904965\n",
      "0.8725993574764852\n",
      "The algorithm converged after 45 iterations with a loss of -9543.9913 and RMSE of 0.8726\n"
     ]
    }
   ],
   "source": [
    "# Empty lists to store the loss and rmse\n",
    "LOSS = []\n",
    "RMSE = []\n",
    "\n",
    "#Begining of the ALS algorithm\n",
    "for iteration in range(N_iterations):\n",
    "        # Fix item biases and latent factors/vectors and update the user biases and latent factors/vectors\n",
    "        for m in range(M):\n",
    "            user_bias, user_factors = update_user(m)\n",
    "\n",
    "        # Fix user biases and latent factors/vectors and update the item biases and latent factors/vectors\n",
    "        for n in range(N):\n",
    "            item_bias, item_factors = update_item(n)\n",
    "\n",
    "        # for g in range(num_genre):\n",
    "        #     item_features = update_genre(g)\n",
    "\n",
    "\n",
    "        # Check for convergence\n",
    "        rmse = loss_function()\n",
    "\n",
    "        #LOSS.append(loss)\n",
    "        RMSE.append(rmse)\n",
    "        print(rmse)\n",
    "        iter_count += 1\n",
    "print(f'The algorithm converged after {iter_count} iterations with a loss of {loss:.4f} and RMSE of {rmse:.4f}')"
   ]
  },
  {
   "cell_type": "code",
   "execution_count": 116,
   "id": "c3e11b19",
   "metadata": {},
   "outputs": [
    {
     "data": {
      "image/png": "[encoded data removed]",
      "text/plain": [
       "<Figure size 640x480 with 1 Axes>"
      ]
     },
     "metadata": {},
     "output_type": "display_data"
    }
   ],
   "source": [
    "#plotting the RMSE\n",
    "plt.plot(RMSE)\n",
    "plt.xlabel('Epoch')\n",
    "plt.ylabel('RMSE')\n",
    "plt.title('Root Mean Squared Error')\n",
    "plt.show()"
   ]
  },
  {
   "cell_type": "code",
   "execution_count": 117,
   "id": "c6a03ccb",
   "metadata": {},
   "outputs": [
    {
     "data": {
      "image/png": "[encoded data removed]",
      "text/plain": [
       "<Figure size 700x500 with 1 Axes>"
      ]
     },
     "metadata": {},
     "output_type": "display_data"
    }
   ],
   "source": [
    "#Get the list of all movie titles\n",
    "movie_titles = list(movies_df['title'])\n",
    "\n",
    "# Select a random subset of 200 users and 500 movies\n",
    "np.random.seed(44)\n",
    "movie_subset = np.random.choice(N, size=500, replace=False)\n",
    "user_subset = np.random.choice(M, size=250, replace=False)\n",
    "\n",
    "# apply PCA to the item features and users embeddings separately\n",
    "pca_item = PCA(n_components=2)\n",
    "pca_user = PCA(n_components=2)\n",
    "X_item_pca = pca_item.fit_transform(item_factors)\n",
    "X_user_pca = pca_user.fit_transform(user_factors)\n",
    "\n",
    "fig, ax = plt.subplots(figsize=(7, 5))\n",
    "\n",
    "# set the limits of the x and y axes to [-1, 1]\n",
    "ax.set_xlim([-5, 5])\n",
    "ax.set_ylim([-5, 5])\n",
    "\n",
    "# Plot the user factors embeddings in 2D\n",
    "ax.scatter(X_user_pca[user_subset, 0], X_user_pca[user_subset, 1], color = 'r', marker = '2', label = 'User')\n",
    "\n",
    "# Plot the item factors embeddings in 2D\n",
    "ax.scatter(X_item_pca[movie_subset, 0], X_item_pca[movie_subset, 1], color = 'blue', marker='1',label = 'Item')\n",
    "ax.legend( loc='best')\n",
    "plt.title('Movie-User Embeddings')\n",
    "\n",
    "\n",
    "# move the axis lines to the center of the plot\n",
    "ax.spines['left'].set_position('center')\n",
    "ax.spines['bottom'].set_position('center')\n",
    "ax.spines['right'].set_color('none')\n",
    "ax.spines['top'].set_color('none')\n",
    "\n",
    "# set the color of the ticks to gray\n",
    "ax.tick_params(axis='both', which='both', color='gray')\n",
    "\n",
    "# set the zorder of the axis lines and change their color\n",
    "ax.spines['left'].set_zorder(0)\n",
    "ax.spines['bottom'].set_zorder(0)\n",
    "ax.spines['left'].set_facecolor('lightgray')\n",
    "ax.spines['bottom'].set_facecolor('lightgray')\n",
    "\n",
    "\n",
    "# add titles for a few movies\n",
    "movie_indices = [1000, 7, 5001, 9000] # assume these are the indices of the movies in your dataset\n",
    "selected_movies = np.array(movie_titles)[movie_indices]\n",
    "\n",
    "for title, index in zip(selected_movies, movie_indices):\n",
    "    ax.text(X_item_pca[index, 0], X_item_pca[index, 1], title)\n",
    "\n",
    "\n",
    "# show the plot\n",
    "plt.show()\n"
   ]
  },
  {
   "cell_type": "code",
   "execution_count": 118,
   "id": "ebbe2cf6",
   "metadata": {},
   "outputs": [
    {
     "data": {
      "image/png": "[encoded data removed]",
      "text/plain": [
       "<Figure size 700x500 with 1 Axes>"
      ]
     },
     "metadata": {},
     "output_type": "display_data"
    }
   ],
   "source": [
    "#Get the list of all movie titles\n",
    "movie_titles = list(movies_df['title'])\n",
    "\n",
    "# Extract the unique genre labels\n",
    "genre_labels = set()\n",
    "for genres in movies_df['genres']:\n",
    "    genre_labels.update(genres.split('|'))\n",
    "    \n",
    "genre_labels = list(genre_labels)\n",
    "\n",
    "# Encode the movie genres as binary variables using one-hot encoding\n",
    "movie_genres = []\n",
    "for genres in movies_df['genres']:\n",
    "    one_hot = np.zeros(len(genre_labels))\n",
    "    for genre in genres.split('|'):\n",
    "        one_hot[genre_labels.index(genre)] = 1\n",
    "    movie_genres.append(one_hot)\n",
    "\n",
    "movie_genres = np.array(movie_genres)\n",
    "\n",
    "\n",
    "# create a dictionary mapping genres to markers\n",
    "genres_markers = {}\n",
    "markers = ['o','.',',','x','+','v','^','<','>','1','2','3','4','s','p','*','h','H','D','d']\n",
    "for i in range(len(genre_labels)):\n",
    "    genres_markers[genre_labels[i]] = markers[i]\n",
    "genres_markers\n",
    "\n",
    "# Select 50 randomly sampled movie titles and their corresponding one-hot encoded genres\n",
    "n_movies =100\n",
    "\n",
    "idx = np.random.choice(len(movie_titles), n_movies, replace=False)\n",
    "selected_movie_titles = np.array(movie_titles)[idx]\n",
    "selected_movie_genres = movie_genres[idx, :]\n",
    "\n",
    "# apply PCA to reduce dimensionality of movie feature vectors to 2\n",
    "genres = movies_df['genres'].str.split('|')\n",
    "pca = PCA(n_components=2)\n",
    "item_factors_2d = pca.fit_transform(item_factors)\n",
    "\n",
    "# plot the movie feature vectors embedded in R2, tagged by genre\n",
    "fig, ax = plt.subplots(figsize=(7, 5))\n",
    "\n",
    "# add a line at x=0 and y=0\n",
    "ax.axhline(y=0, color='gray', linestyle='-')\n",
    "ax.axvline(x=0, color='gray', linestyle='-')\n",
    "\n",
    "legend_labels = []\n",
    "# plot the movie feature vectors embedded in R2, tagged by genre\n",
    "for i in range(n_movies):\n",
    "    for genre in genres[i]:\n",
    "        marker = genres_markers.get(genre)\n",
    "        marker_index = markers.index(marker)\n",
    "        if genre not in legend_labels:\n",
    "            ax.scatter(item_factors_2d[i, 0], item_factors_2d[i, 1], marker=marker, label=genre, alpha=0.5)\n",
    "            legend_labels.append(genre)\n",
    "        else:\n",
    "             ax.scatter(item_factors_2d[i, 0], item_factors_2d[i, 1], marker=marker, alpha=0.5)\n",
    "             \n",
    "        \n",
    "        # Add title for 10 randomly selected movies in our sampled movie list. \n",
    "        if i in np.random.choice(range(n_movies), 7):\n",
    "            ax.text(item_factors_2d[i, 0], item_factors_2d[i, 1], selected_movie_titles[i], fontsize=8)\n",
    "        \n",
    "# Add the legend outside the plot\n",
    "plt.legend(bbox_to_anchor=(1.05, 1), loc='best')\n",
    "\n",
    "# remove the axis\n",
    "ax.axis('off')\n",
    "\n",
    "# show the plot\n",
    "plt.show()"
   ]
  },
  {
   "cell_type": "code",
   "execution_count": 119,
   "id": "8499eff3",
   "metadata": {},
   "outputs": [
    {
     "name": "stdout",
     "output_type": "stream",
     "text": [
      "The top 10 recommended movies for the user who watched Lord of the Rings: The Fellowship of the Ring, The (2001) are:\n",
      "\n",
      "Ace Ventura: When Nature Calls (1995)\n",
      "Toy Story (1995)\n",
      "Father of the Bride Part II (1995)\n",
      "Nixon (1995)\n",
      "Sudden Death (1995)\n",
      "GoldenEye (1995)\n",
      "Sense and Sensibility (1995)\n",
      "Sabrina (1995)\n",
      "American President, The (1995)\n",
      "Grumpier Old Men (1995)\n"
     ]
    }
   ],
   "source": [
    "# Create a dictionary mapping movie titles to movie IDs\n",
    "id2title = dict(zip(movies_df1['movieId'], movies_df1['title']))\n",
    "\n",
    "# Create a dictionary mapping movie IDs to movie titles\n",
    "title2id = dict(zip(movies_df1['title'], movies_df1['movieId']))\n",
    "\n",
    "movie_title = 'Lord of the Rings: The Fellowship of the Ring, The (2001)'\n",
    "num_movies = 10\n",
    "\n",
    "# Create a dummy user that gave \"The Lord of the Rings: The Fellowship of the Ring\" movie five stars\n",
    "dummy_user = np.zeros(len(movies_df1))\n",
    "dummy_user_id = title2id[movie_title]\n",
    "dummy_user[dummy_user_id] = 5\n",
    "\n",
    "# Get the latent factor for the \"The Lord of the Rings: The Fellowship of the Ring\" movie\n",
    "movie_id = title2id[movie_title]\n",
    "movie_factor = item_factors[movie_id]\n",
    "\n",
    "# Compute the similarity between the \"The Lord of the Rings: The Fellowship of the Ring\" movie and all other movies\n",
    "similarities = np.dot(dummy_user,item_factors)\n",
    "\n",
    "# Get the top 10 most similar movies\n",
    "top_10_similar_movies_indices = similarities.argsort()[::-1][:num_movies]\n",
    "top_10_similar_movies = [id2title[i] for i in top_10_similar_movies_indices]\n",
    "\n",
    "#Print the top 10 most similar movies\n",
    "print(\"The top {} recommended movies for the user who watched {} are:\\n\".format(num_movies, movie_title))\n",
    "print(\"\\n\".join(top_10_similar_movies))"
   ]
  },
  {
   "cell_type": "code",
   "execution_count": 122,
   "id": "a32d3090",
   "metadata": {},
   "outputs": [],
   "source": [
    "def Top_N_recommeded_movies(N,movie_name):\n",
    "\n",
    "    # Extract the movieId for for the watched movie\n",
    "    movie_id = movies_df[movies_df['title'] == movie_name]['movieId'].values[0]\n",
    "\n",
    "    # Extract the genres for the watched movie\n",
    "    movie_genre = movies_df[movies_df['title'] == movie_name]['genres'].values[0]\n",
    "\n",
    "    # Filter the dataset to only include movies with the same genre as the given movie\n",
    "    similar_movies = movies_df[movies_df['genres'] == movie_genre]\n",
    "\n",
    "    # Computing the similarity between the given movie and the other movies based on the ALS model\n",
    "    similar_movies = similar_movies.copy()\n",
    "    movie_vec = item_factors[movie_id]\n",
    "    similar_movies['similarity'] = similar_movies['movieId'].apply(lambda x: np.dot(item_factors[x], movie_vec))\n",
    "\n",
    "    # Sort the resulting dataset by the similarity.\n",
    "    similar_movies = similar_movies.sort_values('similarity', ascending=False)\n",
    "\n",
    "    # Select the top N movies from the resulting dataset.\n",
    "    top_n_movies = similar_movies[(similar_movies['title'] != movie_name)].head(N)\n",
    "\n",
    "    rec_movies = list(top_n_movies['title'])\n",
    "\n",
    "    return rec_movies\n",
    "\n",
    "Movies = Top_N_recommeded_movies(10,movie_title)"
   ]
  },
  {
   "cell_type": "code",
   "execution_count": 125,
   "id": "fca0c262",
   "metadata": {},
   "outputs": [
    {
     "data": {
      "text/html": [
       "<div>\n",
       "<style scoped>\n",
       "    .dataframe tbody tr th:only-of-type {\n",
       "        vertical-align: middle;\n",
       "    }\n",
       "\n",
       "    .dataframe tbody tr th {\n",
       "        vertical-align: top;\n",
       "    }\n",
       "\n",
       "    .dataframe thead th {\n",
       "        text-align: right;\n",
       "    }\n",
       "</style>\n",
       "<table border=\"1\" class=\"dataframe\">\n",
       "  <thead>\n",
       "    <tr style=\"text-align: right;\">\n",
       "      <th></th>\n",
       "      <th>movieId</th>\n",
       "      <th>title</th>\n",
       "      <th>Genres</th>\n",
       "    </tr>\n",
       "  </thead>\n",
       "  <tbody>\n",
       "    <tr>\n",
       "      <th>0</th>\n",
       "      <td>6955</td>\n",
       "      <td>Fire and Ice (2008)</td>\n",
       "      <td>Adventure|Fantasy</td>\n",
       "    </tr>\n",
       "    <tr>\n",
       "      <th>1</th>\n",
       "      <td>1598</td>\n",
       "      <td>Dark Crystal, The (1982)</td>\n",
       "      <td>Adventure|Fantasy</td>\n",
       "    </tr>\n",
       "    <tr>\n",
       "      <th>2</th>\n",
       "      <td>4137</td>\n",
       "      <td>Lord of the Rings: The Two Towers, The (2002)</td>\n",
       "      <td>Adventure|Fantasy</td>\n",
       "    </tr>\n",
       "    <tr>\n",
       "      <th>3</th>\n",
       "      <td>8617</td>\n",
       "      <td>The Hobbit: The Battle of the Five Armies (2014)</td>\n",
       "      <td>Adventure|Fantasy</td>\n",
       "    </tr>\n",
       "    <tr>\n",
       "      <th>4</th>\n",
       "      <td>9218</td>\n",
       "      <td>Gods of Egypt (2016)</td>\n",
       "      <td>Adventure|Fantasy</td>\n",
       "    </tr>\n",
       "    <tr>\n",
       "      <th>5</th>\n",
       "      <td>7261</td>\n",
       "      <td>Percy Jackson &amp; the Olympians: The Lightning T...</td>\n",
       "      <td>Adventure|Fantasy</td>\n",
       "    </tr>\n",
       "    <tr>\n",
       "      <th>6</th>\n",
       "      <td>6912</td>\n",
       "      <td>Dinotopia (2002)</td>\n",
       "      <td>Adventure|Fantasy</td>\n",
       "    </tr>\n",
       "    <tr>\n",
       "      <th>7</th>\n",
       "      <td>4076</td>\n",
       "      <td>Harry Potter and the Chamber of Secrets (2002)</td>\n",
       "      <td>Adventure|Fantasy</td>\n",
       "    </tr>\n",
       "    <tr>\n",
       "      <th>8</th>\n",
       "      <td>4152</td>\n",
       "      <td>Thief of Bagdad, The (1940)</td>\n",
       "      <td>Adventure|Fantasy</td>\n",
       "    </tr>\n",
       "    <tr>\n",
       "      <th>9</th>\n",
       "      <td>6957</td>\n",
       "      <td>Inkheart (2008)</td>\n",
       "      <td>Adventure|Fantasy</td>\n",
       "    </tr>\n",
       "  </tbody>\n",
       "</table>\n",
       "</div>"
      ],
      "text/plain": [
       "   movieId                                              title  \\\n",
       "0     6955                                Fire and Ice (2008)   \n",
       "1     1598                           Dark Crystal, The (1982)   \n",
       "2     4137      Lord of the Rings: The Two Towers, The (2002)   \n",
       "3     8617   The Hobbit: The Battle of the Five Armies (2014)   \n",
       "4     9218                               Gods of Egypt (2016)   \n",
       "5     7261  Percy Jackson & the Olympians: The Lightning T...   \n",
       "6     6912                                   Dinotopia (2002)   \n",
       "7     4076     Harry Potter and the Chamber of Secrets (2002)   \n",
       "8     4152                        Thief of Bagdad, The (1940)   \n",
       "9     6957                                    Inkheart (2008)   \n",
       "\n",
       "              Genres  \n",
       "0  Adventure|Fantasy  \n",
       "1  Adventure|Fantasy  \n",
       "2  Adventure|Fantasy  \n",
       "3  Adventure|Fantasy  \n",
       "4  Adventure|Fantasy  \n",
       "5  Adventure|Fantasy  \n",
       "6  Adventure|Fantasy  \n",
       "7  Adventure|Fantasy  \n",
       "8  Adventure|Fantasy  \n",
       "9  Adventure|Fantasy  "
      ]
     },
     "execution_count": 125,
     "metadata": {},
     "output_type": "execute_result"
    }
   ],
   "source": [
    "movieIDS, movieGs = [], []\n",
    "for movie in Movies:\n",
    "    mID = movies_df[movies_df['title']==movie]['movieId'].values[0]\n",
    "    genre = movies_df[movies_df['title']==movie]['genres'].values[0]\n",
    "    movieIDS.append(mID), movieGs.append(genre)\n",
    "DF =  pd.DataFrame({'movieId': movieIDS, 'title': Movies, 'Genres': movieGs})\n",
    "DF\n"
   ]
  },
  {
   "attachments": {},
   "cell_type": "markdown",
   "id": "c1d8b7d1",
   "metadata": {},
   "source": [
    "##### **Conclusion**\n",
    "\n",
    "In conclusion, we have successfully built a movie recommendation system using the Alternating Least Squares (ALS) algorithm which provides personalized movie recommendations based on a user's viewing history.  Through the use of feature vectors and latent factors, the model is able to identify and recommend movies with similar features to those that the user has already enjoyed. Our model was trained on the MovieLens 100K dataset, and we were able to make personalized movie recommendations for users based on their viewing history.\n",
    "\n",
    "The results of our movie recommendation system are promising, with the ALS algorithm being able to accurately predict movie ratings for users. The RMSE score of our model is quite low, indicating that it is able to make accurate predictions with a high degree of confidence. This suggests that the algorithm has been able to capture meaningful patterns in the movie ratings data and use them to generate useful recommendations. We also explored the most and least polarizing movies based on the variance of their ratings, which can help us understand which movies are likely to be controversial among viewers. This information can be used to fine-tune recommendations based on a user's preferences and avoid recommending polarizing movies to users who are unlikely to enjoy them."
   ]
  },
  {
   "cell_type": "code",
   "execution_count": null,
   "id": "b539237d",
   "metadata": {},
   "outputs": [],
   "source": []
  }
 ],
 "metadata": {
  "kernelspec": {
   "display_name": "Python 3 (ipykernel)",
   "language": "python",
   "name": "python3"
  },
  "language_info": {
   "codemirror_mode": {
    "name": "ipython",
    "version": 3
   },
   "file_extension": ".py",
   "mimetype": "text/x-python",
   "name": "python",
   "nbconvert_exporter": "python",
   "pygments_lexer": "ipython3",
   "version": "3.9.13"
  }
 },
 "nbformat": 4,
 "nbformat_minor": 5
}
